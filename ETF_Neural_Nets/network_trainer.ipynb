{
 "cells": [
  {
   "cell_type": "markdown",
   "metadata": {},
   "source": [
    "# Trading Neural Network Trainer"
   ]
  },
  {
   "cell_type": "code",
   "execution_count": 2,
   "metadata": {},
   "outputs": [],
   "source": [
    "# Imports\n",
    "import pandas as pd\n",
    "import numpy as np\n",
    "from pathlib import Path\n",
    "import tensorflow as tf\n",
    "from tensorflow.keras.layers import Dense, Dropout\n",
    "from tensorflow.keras.models import Sequential\n",
    "from sklearn.model_selection import train_test_split\n",
    "from sklearn.preprocessing import StandardScaler\n",
    "from pandas.tseries.offsets import DateOffset\n",
    "import yfinance as yf\n",
    "from datetime import date\n",
    "import plotly\n",
    "import plotly.graph_objects as go\n",
    "from tqdm import tqdm\n"
   ]
  },
  {
   "cell_type": "markdown",
   "metadata": {},
   "source": [
    "---\n",
    "\n",
    "## Prepare the data to be used on a neural network model"
   ]
  },
  {
   "cell_type": "markdown",
   "metadata": {},
   "source": [
    "### Read the csv file into a Pandas DataFrame. clean variables and define target and features"
   ]
  },
  {
   "cell_type": "code",
   "execution_count": 3,
   "metadata": {},
   "outputs": [
    {
     "data": {
      "text/html": [
       "<div>\n",
       "<style scoped>\n",
       "    .dataframe tbody tr th:only-of-type {\n",
       "        vertical-align: middle;\n",
       "    }\n",
       "\n",
       "    .dataframe tbody tr th {\n",
       "        vertical-align: top;\n",
       "    }\n",
       "\n",
       "    .dataframe thead th {\n",
       "        text-align: right;\n",
       "    }\n",
       "</style>\n",
       "<table border=\"1\" class=\"dataframe\">\n",
       "  <thead>\n",
       "    <tr style=\"text-align: right;\">\n",
       "      <th></th>\n",
       "      <th>Open</th>\n",
       "      <th>High</th>\n",
       "      <th>Low</th>\n",
       "      <th>Close</th>\n",
       "      <th>Adj Close</th>\n",
       "      <th>Volume</th>\n",
       "    </tr>\n",
       "    <tr>\n",
       "      <th>Date</th>\n",
       "      <th></th>\n",
       "      <th></th>\n",
       "      <th></th>\n",
       "      <th></th>\n",
       "      <th></th>\n",
       "      <th></th>\n",
       "    </tr>\n",
       "  </thead>\n",
       "  <tbody>\n",
       "    <tr>\n",
       "      <th>2015-10-08</th>\n",
       "      <td>30.010000</td>\n",
       "      <td>30.209999</td>\n",
       "      <td>30.010000</td>\n",
       "      <td>30.209999</td>\n",
       "      <td>24.521376</td>\n",
       "      <td>2000</td>\n",
       "    </tr>\n",
       "    <tr>\n",
       "      <th>2015-10-09</th>\n",
       "      <td>30.200001</td>\n",
       "      <td>30.200001</td>\n",
       "      <td>30.059999</td>\n",
       "      <td>30.160000</td>\n",
       "      <td>24.480793</td>\n",
       "      <td>4300</td>\n",
       "    </tr>\n",
       "    <tr>\n",
       "      <th>2015-10-12</th>\n",
       "      <td>30.420000</td>\n",
       "      <td>30.420000</td>\n",
       "      <td>30.270000</td>\n",
       "      <td>30.350000</td>\n",
       "      <td>24.635014</td>\n",
       "      <td>2300</td>\n",
       "    </tr>\n",
       "    <tr>\n",
       "      <th>2015-10-13</th>\n",
       "      <td>30.160000</td>\n",
       "      <td>30.160000</td>\n",
       "      <td>30.160000</td>\n",
       "      <td>30.160000</td>\n",
       "      <td>24.480793</td>\n",
       "      <td>500</td>\n",
       "    </tr>\n",
       "    <tr>\n",
       "      <th>2015-10-14</th>\n",
       "      <td>30.160000</td>\n",
       "      <td>30.160000</td>\n",
       "      <td>30.160000</td>\n",
       "      <td>30.160000</td>\n",
       "      <td>24.480793</td>\n",
       "      <td>0</td>\n",
       "    </tr>\n",
       "  </tbody>\n",
       "</table>\n",
       "</div>"
      ],
      "text/plain": [
       "                 Open       High        Low      Close  Adj Close  Volume\n",
       "Date                                                                     \n",
       "2015-10-08  30.010000  30.209999  30.010000  30.209999  24.521376    2000\n",
       "2015-10-09  30.200001  30.200001  30.059999  30.160000  24.480793    4300\n",
       "2015-10-12  30.420000  30.420000  30.270000  30.350000  24.635014    2300\n",
       "2015-10-13  30.160000  30.160000  30.160000  30.160000  24.480793     500\n",
       "2015-10-14  30.160000  30.160000  30.160000  30.160000  24.480793       0"
      ]
     },
     "execution_count": 3,
     "metadata": {},
     "output_type": "execute_result"
    }
   ],
   "source": [
    "# Read the csv file from the Training_Data folder into a Pandas DataFrame\n",
    "new_df = pd.read_csv(Path(\"./Training_Data/XLRE.csv\"), index_col=\"Date\", parse_dates=True, infer_datetime_format=True)\n",
    "\n",
    "# Review the DataFrame\n",
    "new_df.head()"
   ]
  },
  {
   "cell_type": "markdown",
   "metadata": {},
   "source": [
    "### Create Function to build Basic Indicators"
   ]
  },
  {
   "cell_type": "code",
   "execution_count": 4,
   "metadata": {},
   "outputs": [
    {
     "data": {
      "text/plain": [
       "Close              float64\n",
       "Volume               int64\n",
       "Returns            float64\n",
       "10SMA              float64\n",
       "20SMA              float64\n",
       "                    ...   \n",
       "100SMA_Vol         float64\n",
       "10SMA_Vol_diff     float64\n",
       "20SMA_Vol_diff     float64\n",
       "50SMA_Vol_diff     float64\n",
       "100SMA_Vol_diff    float64\n",
       "Length: 61, dtype: object"
      ]
     },
     "execution_count": 4,
     "metadata": {},
     "output_type": "execute_result"
    }
   ],
   "source": [
    "# Review the data types associated with the columns\n",
    "def prepare_data(new_df):\n",
    "    data_df = new_df.drop(columns=[\"Open\", \"High\", \"Low\", \"Adj Close\"])\n",
    "\n",
    "    # Make a daily percent change column\n",
    "    data_df[\"Returns\"] = data_df[\"Close\"].pct_change()\n",
    "\n",
    "    # Establishes our basic MAs\n",
    "    data_df[\"10SMA\"] = data_df[\"Close\"].rolling(window=10).mean()\n",
    "    data_df[\"20SMA\"] = data_df[\"Close\"].rolling(window=20).mean()\n",
    "    data_df[\"50SMA\"] = data_df[\"Close\"].rolling(window=50).mean()\n",
    "    data_df[\"100SMA\"] = data_df[\"Close\"].rolling(window=100).mean()\n",
    "\n",
    "    # SMA % Changes\n",
    "    data_df[\"10SMA_diff\"] = (data_df[\"10SMA\"].diff()) / data_df[\"10SMA\"]\n",
    "    data_df[\"20SMA_diff\"] = (data_df[\"20SMA\"].diff()) / data_df[\"20SMA\"]\n",
    "    data_df[\"50SMA_diff\"] = (data_df[\"50SMA\"].diff()) / data_df[\"50SMA\"]\n",
    "    data_df[\"100SMA_diff\"] = (data_df[\"100SMA\"].diff()) / data_df[\"100SMA\"]\n",
    "\n",
    "    # Builds momentum SMAs\n",
    "    data_df[\"10SMA%\"] = data_df[\"Returns\"].rolling(window=10).mean()\n",
    "    data_df[\"20SMA%\"] = data_df[\"Returns\"].rolling(window=20).mean()\n",
    "    data_df[\"50SMA%\"] = data_df[\"Returns\"].rolling(window=50).mean()\n",
    "    data_df[\"100SMA%\"] = data_df[\"Returns\"].rolling(window=100).mean()\n",
    "\n",
    "    # Establishes our basic EMAs\n",
    "    data_df[\"10EMA\"] = data_df[\"Close\"].ewm(span=10, adjust=False).mean()\n",
    "    data_df[\"20EMA\"] = data_df[\"Close\"].ewm(span=20, adjust=False).mean()\n",
    "    data_df[\"50EMA\"] = data_df[\"Close\"].ewm(span=50, adjust=False).mean()\n",
    "    data_df[\"100EMA\"] = data_df[\"Close\"].ewm(span=100, adjust=False).mean()\n",
    "\n",
    "    # EMA % Changes\n",
    "    data_df[\"10EMA_diff\"] = (data_df[\"10EMA\"].diff()) / data_df[\"10EMA\"]\n",
    "    data_df[\"20EMA_diff\"] = (data_df[\"20EMA\"].diff()) / data_df[\"20EMA\"]\n",
    "    data_df[\"50EMA_diff\"] = (data_df[\"50EMA\"].diff()) / data_df[\"50EMA\"]\n",
    "    data_df[\"100EMA_diff\"] = (data_df[\"100EMA\"].diff()) / data_df[\"100EMA\"]\n",
    "\n",
    "\n",
    "    # Builds momentum EMAs\n",
    "    data_df[\"10EMA%\"] = data_df[\"Returns\"].ewm(span=10, adjust=False).mean()\n",
    "    data_df[\"20EMA%\"] = data_df[\"Returns\"].ewm(span=20, adjust=False).mean()\n",
    "    data_df[\"50EMA%\"] = data_df[\"Returns\"].ewm(span=50, adjust=False).mean()\n",
    "    data_df[\"100EMA%\"] = data_df[\"Returns\"].ewm(span=100, adjust=False).mean()\n",
    "\n",
    "    # Builds a standard MACD to opperate on\n",
    "    short_ema = data_df['Close'].ewm(span=12, adjust=False).mean()\n",
    "    long_ema = data_df['Close'].ewm(span=26, adjust=False).mean()\n",
    "    data_df['MACD'] = short_ema - long_ema\n",
    "    data_df['signal'] = data_df['MACD'].ewm(span=9, adjust=False).mean()\n",
    "    data_df['MACD_hist'] = data_df['MACD'] - data_df['signal']\n",
    "\n",
    "    # MACD Histogram diff function\n",
    "    data_df[\"MACD_hist_diff\"] = (data_df[\"MACD_hist\"].diff()) / data_df[\"MACD_hist\"]\n",
    "\n",
    "\n",
    "    # Builds out a standard RSI Indicator\n",
    "\n",
    "    #Creates the up and down columns to use in generating the RSI\n",
    "    data_df['up_tick'] = np.where(data_df['Returns'] > 0, data_df[\"Returns\"], 0.0)\n",
    "    data_df['dn_tick'] = np.where(data_df['Returns'] < 0, abs(data_df[\"Returns\"]), 0.0)\n",
    "\n",
    "    # creates the rolling averages of the up and dn columns for RSI\n",
    "    RS_up = data_df['up_tick'].rolling(window=14).mean()\n",
    "    RS_dn = data_df['dn_tick'].rolling(window=14).mean()\n",
    "\n",
    "    RS = RS_up / RS_dn\n",
    "\n",
    "    # Final Calculation of RSI\n",
    "    data_df['RSI'] = 100 - (100/(1 + RS))+1\n",
    "\n",
    "\n",
    "    # RSI Diff\n",
    "    data_df[\"RSI_diff\"] = (data_df[\"RSI\"].diff()) / data_df[\"RSI\"]\n",
    "\n",
    "\n",
    "    #Removes columns that are no longer neccesary (we keep uptick to define our trade signal later)\n",
    "\n",
    "    data_df = data_df.drop(columns=[\"up_tick\", \"dn_tick\"])\n",
    "\n",
    "\n",
    "    # Create Base for WMA, for HullMAs on price, volatility and momentum\n",
    "\n",
    "    # Hull Moving Averages\n",
    "    # Add weights for 10 20 50 \n",
    "    # RHMA = (2 * WMA(n/1)) - WMA(n)\n",
    "    # HMA = WMA(sqrt(n)) of RHMA\n",
    "\n",
    "    # WMA is sum(price * weight (number)) / (n*(n+1))/2\n",
    "\n",
    "    # function that defines the WMA over any period\n",
    "    def WMA(data, length):\n",
    "           return data.rolling(length).apply(lambda x: ((np.arange(length)+1)*x).sum()/(np.arange(length)+1).sum(), raw=True)\n",
    "\n",
    "\n",
    "    # function that calls the WMA function to calculate the hull moving average    \n",
    "    def HMA(data, length):\n",
    "           return WMA(WMA(data, length//2).multiply(2).sub(WMA(data, length)), int(np.sqrt(length)))\n",
    "\n",
    "    # Add our HMAs to the dataframe\n",
    "    data_df['10HMA'] = HMA(data_df['Close'], 10)\n",
    "    data_df['20HMA'] = HMA(data_df['Close'], 20)\n",
    "    data_df['50HMA'] = HMA(data_df['Close'], 50)\n",
    "    data_df['100HMA'] = HMA(data_df['Close'], 100)\n",
    "\n",
    "\n",
    "\n",
    "    # Add our HMA Diffs\n",
    "    data_df[\"10HMA_diff\"] = (data_df[\"10HMA\"].diff()) / data_df[\"10HMA\"]\n",
    "    data_df[\"20HMA_diff\"] = (data_df[\"20HMA\"].diff()) / data_df[\"20HMA\"]\n",
    "    data_df[\"50HMA_diff\"] = (data_df[\"50HMA\"].diff()) / data_df[\"50HMA\"]\n",
    "    data_df[\"100HMA_diff\"] = (data_df[\"100HMA\"].diff()) / data_df[\"100HMA\"]\n",
    "\n",
    "\n",
    "\n",
    "    # Add Momentum HMAs to the dataframe\n",
    "    data_df['10HMA%'] = HMA(data_df['Returns'], 10)\n",
    "    data_df['20HMA%'] = HMA(data_df['Returns'], 20)\n",
    "    data_df['50HMA%'] = HMA(data_df['Returns'], 50)\n",
    "    data_df['100HMA%'] = HMA(data_df['Returns'], 100)\n",
    "\n",
    "    # and our volatility SMAs\n",
    "    data_df[\"10VAR\"] = data_df[\"Returns\"].rolling(window=10).var()\n",
    "    data_df[\"20VAR\"] = data_df[\"Returns\"].rolling(window=20).var()\n",
    "    data_df[\"50VAR\"] = data_df[\"Returns\"].rolling(window=50).var()\n",
    "    data_df[\"100VAR\"] = data_df[\"Returns\"].rolling(window=100).var()\n",
    "\n",
    "\n",
    "    # Volatility % Changes\n",
    "    data_df[\"10VAR_diff\"] = (data_df[\"10VAR\"].diff()) / data_df[\"10VAR\"]\n",
    "    data_df[\"20VAR_diff\"] = (data_df[\"20VAR\"].diff()) / data_df[\"20VAR\"]\n",
    "    data_df[\"50VAR_diff\"] = (data_df[\"50VAR\"].diff()) / data_df[\"50VAR\"]\n",
    "    data_df[\"100VAR_diff\"] = (data_df[\"100VAR\"].diff()) / data_df[\"100VAR\"]\n",
    "\n",
    "\n",
    "\n",
    "    # Volume MAs\n",
    "    data_df[\"10SMA_Vol\"] = data_df[\"Volume\"].rolling(window=10).mean()\n",
    "    data_df[\"20SMA_Vol\"] = data_df[\"Volume\"].rolling(window=20).mean()\n",
    "    data_df[\"50SMA_Vol\"] = data_df[\"Volume\"].rolling(window=50).mean()\n",
    "    data_df[\"100SMA_Vol\"] = data_df[\"Volume\"].rolling(window=100).mean()\n",
    "\n",
    "    # Volume SMA diffs\n",
    "    data_df[\"10SMA_Vol_diff\"] = (data_df[\"10SMA_Vol\"].diff()) / data_df[\"10SMA_Vol\"]\n",
    "    data_df[\"20SMA_Vol_diff\"] = (data_df[\"20SMA_Vol\"].diff()) / data_df[\"20SMA_Vol\"]\n",
    "    data_df[\"50SMA_Vol_diff\"] = (data_df[\"50SMA_Vol\"].diff()) / data_df[\"50SMA_Vol\"]\n",
    "    data_df[\"100SMA_Vol_diff\"] = (data_df[\"100SMA_Vol\"].diff()) / data_df[\"100SMA_Vol\"]\n",
    "    \n",
    "    return data_df\n",
    "\n",
    "data_df = prepare_data(new_df)\n",
    "\n",
    "\n",
    "#data_df.tail(20)\n",
    "data_df.dtypes\n"
   ]
  },
  {
   "cell_type": "markdown",
   "metadata": {},
   "source": [
    "### Build out a Neural Network to train"
   ]
  },
  {
   "cell_type": "code",
   "execution_count": 4,
   "metadata": {},
   "outputs": [
    {
     "data": {
      "text/html": [
       "<div>\n",
       "<style scoped>\n",
       "    .dataframe tbody tr th:only-of-type {\n",
       "        vertical-align: middle;\n",
       "    }\n",
       "\n",
       "    .dataframe tbody tr th {\n",
       "        vertical-align: top;\n",
       "    }\n",
       "\n",
       "    .dataframe thead th {\n",
       "        text-align: right;\n",
       "    }\n",
       "</style>\n",
       "<table border=\"1\" class=\"dataframe\">\n",
       "  <thead>\n",
       "    <tr style=\"text-align: right;\">\n",
       "      <th></th>\n",
       "      <th>Close</th>\n",
       "      <th>Volume</th>\n",
       "      <th>Returns</th>\n",
       "      <th>10SMA</th>\n",
       "      <th>20SMA</th>\n",
       "      <th>50SMA</th>\n",
       "      <th>100SMA</th>\n",
       "      <th>10SMA_diff</th>\n",
       "      <th>20SMA_diff</th>\n",
       "      <th>50SMA_diff</th>\n",
       "      <th>...</th>\n",
       "      <th>100VAR_diff</th>\n",
       "      <th>10SMA_Vol</th>\n",
       "      <th>20SMA_Vol</th>\n",
       "      <th>50SMA_Vol</th>\n",
       "      <th>100SMA_Vol</th>\n",
       "      <th>10SMA_Vol_diff</th>\n",
       "      <th>20SMA_Vol_diff</th>\n",
       "      <th>50SMA_Vol_diff</th>\n",
       "      <th>100SMA_Vol_diff</th>\n",
       "      <th>Target</th>\n",
       "    </tr>\n",
       "    <tr>\n",
       "      <th>Date</th>\n",
       "      <th></th>\n",
       "      <th></th>\n",
       "      <th></th>\n",
       "      <th></th>\n",
       "      <th></th>\n",
       "      <th></th>\n",
       "      <th></th>\n",
       "      <th></th>\n",
       "      <th></th>\n",
       "      <th></th>\n",
       "      <th></th>\n",
       "      <th></th>\n",
       "      <th></th>\n",
       "      <th></th>\n",
       "      <th></th>\n",
       "      <th></th>\n",
       "      <th></th>\n",
       "      <th></th>\n",
       "      <th></th>\n",
       "      <th></th>\n",
       "      <th></th>\n",
       "    </tr>\n",
       "  </thead>\n",
       "  <tbody>\n",
       "    <tr>\n",
       "      <th>2021-10-20</th>\n",
       "      <td>47.200001</td>\n",
       "      <td>5596400</td>\n",
       "      <td>0.015272</td>\n",
       "      <td>45.758</td>\n",
       "      <td>45.4590</td>\n",
       "      <td>46.4424</td>\n",
       "      <td>45.9772</td>\n",
       "      <td>0.004677</td>\n",
       "      <td>0.000583</td>\n",
       "      <td>0.000508</td>\n",
       "      <td>...</td>\n",
       "      <td>0.024484</td>\n",
       "      <td>5478860.0</td>\n",
       "      <td>6444395.0</td>\n",
       "      <td>5955942.0</td>\n",
       "      <td>5328008.0</td>\n",
       "      <td>-0.062055</td>\n",
       "      <td>-0.006486</td>\n",
       "      <td>-0.003884</td>\n",
       "      <td>0.003871</td>\n",
       "      <td>1.0</td>\n",
       "    </tr>\n",
       "    <tr>\n",
       "      <th>2021-10-21</th>\n",
       "      <td>47.349998</td>\n",
       "      <td>5528800</td>\n",
       "      <td>0.003178</td>\n",
       "      <td>45.982</td>\n",
       "      <td>45.5045</td>\n",
       "      <td>46.4640</td>\n",
       "      <td>46.0107</td>\n",
       "      <td>0.004871</td>\n",
       "      <td>0.001000</td>\n",
       "      <td>0.000465</td>\n",
       "      <td>...</td>\n",
       "      <td>-0.038088</td>\n",
       "      <td>5304760.0</td>\n",
       "      <td>6492260.0</td>\n",
       "      <td>5985030.0</td>\n",
       "      <td>5328173.0</td>\n",
       "      <td>-0.032820</td>\n",
       "      <td>0.007373</td>\n",
       "      <td>0.004860</td>\n",
       "      <td>0.000031</td>\n",
       "      <td>1.0</td>\n",
       "    </tr>\n",
       "    <tr>\n",
       "      <th>2021-10-22</th>\n",
       "      <td>47.689999</td>\n",
       "      <td>5378000</td>\n",
       "      <td>0.007181</td>\n",
       "      <td>46.289</td>\n",
       "      <td>45.5935</td>\n",
       "      <td>46.4892</td>\n",
       "      <td>46.0415</td>\n",
       "      <td>0.006632</td>\n",
       "      <td>0.001952</td>\n",
       "      <td>0.000542</td>\n",
       "      <td>...</td>\n",
       "      <td>-0.019602</td>\n",
       "      <td>5296120.0</td>\n",
       "      <td>6500580.0</td>\n",
       "      <td>6017930.0</td>\n",
       "      <td>5335963.0</td>\n",
       "      <td>-0.001631</td>\n",
       "      <td>0.001280</td>\n",
       "      <td>0.005467</td>\n",
       "      <td>0.001460</td>\n",
       "      <td>1.0</td>\n",
       "    </tr>\n",
       "    <tr>\n",
       "      <th>2021-10-25</th>\n",
       "      <td>47.830002</td>\n",
       "      <td>4933100</td>\n",
       "      <td>0.002936</td>\n",
       "      <td>46.604</td>\n",
       "      <td>45.7275</td>\n",
       "      <td>46.5110</td>\n",
       "      <td>46.0746</td>\n",
       "      <td>0.006759</td>\n",
       "      <td>0.002930</td>\n",
       "      <td>0.000469</td>\n",
       "      <td>...</td>\n",
       "      <td>-0.000396</td>\n",
       "      <td>5374240.0</td>\n",
       "      <td>6412180.0</td>\n",
       "      <td>6021326.0</td>\n",
       "      <td>5350821.0</td>\n",
       "      <td>0.014536</td>\n",
       "      <td>-0.013786</td>\n",
       "      <td>0.000564</td>\n",
       "      <td>0.002777</td>\n",
       "      <td>1.0</td>\n",
       "    </tr>\n",
       "    <tr>\n",
       "      <th>2021-10-26</th>\n",
       "      <td>48.049999</td>\n",
       "      <td>9546200</td>\n",
       "      <td>0.004600</td>\n",
       "      <td>46.881</td>\n",
       "      <td>45.8860</td>\n",
       "      <td>46.5362</td>\n",
       "      <td>46.1095</td>\n",
       "      <td>0.005909</td>\n",
       "      <td>0.003454</td>\n",
       "      <td>0.000542</td>\n",
       "      <td>...</td>\n",
       "      <td>0.002192</td>\n",
       "      <td>5762530.0</td>\n",
       "      <td>6286050.0</td>\n",
       "      <td>6114666.0</td>\n",
       "      <td>5415670.0</td>\n",
       "      <td>0.067382</td>\n",
       "      <td>-0.020065</td>\n",
       "      <td>0.015265</td>\n",
       "      <td>0.011974</td>\n",
       "      <td>0.0</td>\n",
       "    </tr>\n",
       "  </tbody>\n",
       "</table>\n",
       "<p>5 rows × 62 columns</p>\n",
       "</div>"
      ],
      "text/plain": [
       "                Close   Volume   Returns   10SMA    20SMA    50SMA   100SMA  \\\n",
       "Date                                                                          \n",
       "2021-10-20  47.200001  5596400  0.015272  45.758  45.4590  46.4424  45.9772   \n",
       "2021-10-21  47.349998  5528800  0.003178  45.982  45.5045  46.4640  46.0107   \n",
       "2021-10-22  47.689999  5378000  0.007181  46.289  45.5935  46.4892  46.0415   \n",
       "2021-10-25  47.830002  4933100  0.002936  46.604  45.7275  46.5110  46.0746   \n",
       "2021-10-26  48.049999  9546200  0.004600  46.881  45.8860  46.5362  46.1095   \n",
       "\n",
       "            10SMA_diff  20SMA_diff  50SMA_diff  ...  100VAR_diff  10SMA_Vol  \\\n",
       "Date                                            ...                           \n",
       "2021-10-20    0.004677    0.000583    0.000508  ...     0.024484  5478860.0   \n",
       "2021-10-21    0.004871    0.001000    0.000465  ...    -0.038088  5304760.0   \n",
       "2021-10-22    0.006632    0.001952    0.000542  ...    -0.019602  5296120.0   \n",
       "2021-10-25    0.006759    0.002930    0.000469  ...    -0.000396  5374240.0   \n",
       "2021-10-26    0.005909    0.003454    0.000542  ...     0.002192  5762530.0   \n",
       "\n",
       "            20SMA_Vol  50SMA_Vol  100SMA_Vol  10SMA_Vol_diff  20SMA_Vol_diff  \\\n",
       "Date                                                                           \n",
       "2021-10-20  6444395.0  5955942.0   5328008.0       -0.062055       -0.006486   \n",
       "2021-10-21  6492260.0  5985030.0   5328173.0       -0.032820        0.007373   \n",
       "2021-10-22  6500580.0  6017930.0   5335963.0       -0.001631        0.001280   \n",
       "2021-10-25  6412180.0  6021326.0   5350821.0        0.014536       -0.013786   \n",
       "2021-10-26  6286050.0  6114666.0   5415670.0        0.067382       -0.020065   \n",
       "\n",
       "            50SMA_Vol_diff  100SMA_Vol_diff  Target  \n",
       "Date                                                 \n",
       "2021-10-20       -0.003884         0.003871     1.0  \n",
       "2021-10-21        0.004860         0.000031     1.0  \n",
       "2021-10-22        0.005467         0.001460     1.0  \n",
       "2021-10-25        0.000564         0.002777     1.0  \n",
       "2021-10-26        0.015265         0.011974     0.0  \n",
       "\n",
       "[5 rows x 62 columns]"
      ]
     },
     "execution_count": 4,
     "metadata": {},
     "output_type": "execute_result"
    }
   ],
   "source": [
    "#First we add our target data\n",
    "\n",
    "data_df['up_day'] = np.where(data_df['Returns'] > 0, 1.0, 0.0)\n",
    "\n",
    "# used to be Returns shifting\n",
    "data_df['Target'] = data_df['up_day'].shift(-1)\n",
    "data_df = data_df.drop(columns=[\"up_day\"])\n",
    "#data_df['Target'] = data_df['Returns'].shift(-1)\n",
    "# and drop our NaN variables to prepare it to train\n",
    "data_df = data_df.dropna()\n",
    "\n",
    "data_df.tail()\n"
   ]
  },
  {
   "cell_type": "code",
   "execution_count": 5,
   "metadata": {},
   "outputs": [
    {
     "data": {
      "text/html": [
       "<div>\n",
       "<style scoped>\n",
       "    .dataframe tbody tr th:only-of-type {\n",
       "        vertical-align: middle;\n",
       "    }\n",
       "\n",
       "    .dataframe tbody tr th {\n",
       "        vertical-align: top;\n",
       "    }\n",
       "\n",
       "    .dataframe thead th {\n",
       "        text-align: right;\n",
       "    }\n",
       "</style>\n",
       "<table border=\"1\" class=\"dataframe\">\n",
       "  <thead>\n",
       "    <tr style=\"text-align: right;\">\n",
       "      <th></th>\n",
       "      <th>10SMA_diff</th>\n",
       "      <th>20SMA_diff</th>\n",
       "      <th>50SMA_diff</th>\n",
       "      <th>100SMA_diff</th>\n",
       "      <th>10SMA%</th>\n",
       "      <th>20SMA%</th>\n",
       "      <th>50SMA%</th>\n",
       "      <th>100SMA%</th>\n",
       "      <th>10EMA_diff</th>\n",
       "      <th>20EMA_diff</th>\n",
       "      <th>...</th>\n",
       "      <th>50VAR</th>\n",
       "      <th>100VAR</th>\n",
       "      <th>10VAR_diff</th>\n",
       "      <th>20VAR_diff</th>\n",
       "      <th>50VAR_diff</th>\n",
       "      <th>100VAR_diff</th>\n",
       "      <th>10SMA_Vol_diff</th>\n",
       "      <th>20SMA_Vol_diff</th>\n",
       "      <th>50SMA_Vol_diff</th>\n",
       "      <th>100SMA_Vol_diff</th>\n",
       "    </tr>\n",
       "    <tr>\n",
       "      <th>Date</th>\n",
       "      <th></th>\n",
       "      <th></th>\n",
       "      <th></th>\n",
       "      <th></th>\n",
       "      <th></th>\n",
       "      <th></th>\n",
       "      <th></th>\n",
       "      <th></th>\n",
       "      <th></th>\n",
       "      <th></th>\n",
       "      <th></th>\n",
       "      <th></th>\n",
       "      <th></th>\n",
       "      <th></th>\n",
       "      <th></th>\n",
       "      <th></th>\n",
       "      <th></th>\n",
       "      <th></th>\n",
       "      <th></th>\n",
       "      <th></th>\n",
       "      <th></th>\n",
       "    </tr>\n",
       "  </thead>\n",
       "  <tbody>\n",
       "    <tr>\n",
       "      <th>2016-03-16</th>\n",
       "      <td>0.001959</td>\n",
       "      <td>0.004357</td>\n",
       "      <td>0.000339</td>\n",
       "      <td>-0.000032</td>\n",
       "      <td>0.001991</td>\n",
       "      <td>0.004450</td>\n",
       "      <td>0.000441</td>\n",
       "      <td>0.000062</td>\n",
       "      <td>0.002720</td>\n",
       "      <td>0.002924</td>\n",
       "      <td>...</td>\n",
       "      <td>0.000235</td>\n",
       "      <td>0.000186</td>\n",
       "      <td>0.067113</td>\n",
       "      <td>-0.333443</td>\n",
       "      <td>-0.042701</td>\n",
       "      <td>0.003142</td>\n",
       "      <td>0.011905</td>\n",
       "      <td>-0.038732</td>\n",
       "      <td>-0.005083</td>\n",
       "      <td>0.002223</td>\n",
       "    </tr>\n",
       "    <tr>\n",
       "      <th>2016-03-17</th>\n",
       "      <td>0.005176</td>\n",
       "      <td>0.005473</td>\n",
       "      <td>0.000415</td>\n",
       "      <td>0.000182</td>\n",
       "      <td>0.005199</td>\n",
       "      <td>0.005506</td>\n",
       "      <td>0.000505</td>\n",
       "      <td>0.000270</td>\n",
       "      <td>0.008314</td>\n",
       "      <td>0.005886</td>\n",
       "      <td>...</td>\n",
       "      <td>0.000239</td>\n",
       "      <td>0.000196</td>\n",
       "      <td>0.574650</td>\n",
       "      <td>0.335006</td>\n",
       "      <td>0.016966</td>\n",
       "      <td>0.049218</td>\n",
       "      <td>0.000000</td>\n",
       "      <td>-0.109375</td>\n",
       "      <td>-0.005109</td>\n",
       "      <td>-0.002228</td>\n",
       "    </tr>\n",
       "    <tr>\n",
       "      <th>2016-03-18</th>\n",
       "      <td>0.003172</td>\n",
       "      <td>0.004644</td>\n",
       "      <td>0.000264</td>\n",
       "      <td>0.000133</td>\n",
       "      <td>0.003266</td>\n",
       "      <td>0.004754</td>\n",
       "      <td>0.000369</td>\n",
       "      <td>0.000226</td>\n",
       "      <td>0.003688</td>\n",
       "      <td>0.003659</td>\n",
       "      <td>...</td>\n",
       "      <td>0.000243</td>\n",
       "      <td>0.000197</td>\n",
       "      <td>0.216084</td>\n",
       "      <td>0.157569</td>\n",
       "      <td>0.015395</td>\n",
       "      <td>0.006568</td>\n",
       "      <td>0.889109</td>\n",
       "      <td>0.841780</td>\n",
       "      <td>0.628910</td>\n",
       "      <td>0.212097</td>\n",
       "    </tr>\n",
       "    <tr>\n",
       "      <th>2016-03-21</th>\n",
       "      <td>0.002712</td>\n",
       "      <td>0.003639</td>\n",
       "      <td>0.000542</td>\n",
       "      <td>0.000066</td>\n",
       "      <td>0.002823</td>\n",
       "      <td>0.003732</td>\n",
       "      <td>0.000634</td>\n",
       "      <td>0.000162</td>\n",
       "      <td>0.002073</td>\n",
       "      <td>0.002802</td>\n",
       "      <td>...</td>\n",
       "      <td>0.000236</td>\n",
       "      <td>0.000197</td>\n",
       "      <td>0.025909</td>\n",
       "      <td>-0.013764</td>\n",
       "      <td>-0.028007</td>\n",
       "      <td>0.001367</td>\n",
       "      <td>0.012386</td>\n",
       "      <td>0.015815</td>\n",
       "      <td>0.008924</td>\n",
       "      <td>0.004449</td>\n",
       "    </tr>\n",
       "    <tr>\n",
       "      <th>2016-03-22</th>\n",
       "      <td>0.002676</td>\n",
       "      <td>0.003781</td>\n",
       "      <td>0.000775</td>\n",
       "      <td>0.000046</td>\n",
       "      <td>0.002798</td>\n",
       "      <td>0.003902</td>\n",
       "      <td>0.000861</td>\n",
       "      <td>0.000142</td>\n",
       "      <td>0.001372</td>\n",
       "      <td>0.002358</td>\n",
       "      <td>...</td>\n",
       "      <td>0.000232</td>\n",
       "      <td>0.000197</td>\n",
       "      <td>0.001085</td>\n",
       "      <td>-0.019033</td>\n",
       "      <td>-0.016331</td>\n",
       "      <td>0.000186</td>\n",
       "      <td>0.006477</td>\n",
       "      <td>0.007846</td>\n",
       "      <td>-0.011401</td>\n",
       "      <td>-0.002868</td>\n",
       "    </tr>\n",
       "  </tbody>\n",
       "</table>\n",
       "<p>5 rows × 38 columns</p>\n",
       "</div>"
      ],
      "text/plain": [
       "            10SMA_diff  20SMA_diff  50SMA_diff  100SMA_diff    10SMA%  \\\n",
       "Date                                                                    \n",
       "2016-03-16    0.001959    0.004357    0.000339    -0.000032  0.001991   \n",
       "2016-03-17    0.005176    0.005473    0.000415     0.000182  0.005199   \n",
       "2016-03-18    0.003172    0.004644    0.000264     0.000133  0.003266   \n",
       "2016-03-21    0.002712    0.003639    0.000542     0.000066  0.002823   \n",
       "2016-03-22    0.002676    0.003781    0.000775     0.000046  0.002798   \n",
       "\n",
       "              20SMA%    50SMA%   100SMA%  10EMA_diff  20EMA_diff  ...  \\\n",
       "Date                                                              ...   \n",
       "2016-03-16  0.004450  0.000441  0.000062    0.002720    0.002924  ...   \n",
       "2016-03-17  0.005506  0.000505  0.000270    0.008314    0.005886  ...   \n",
       "2016-03-18  0.004754  0.000369  0.000226    0.003688    0.003659  ...   \n",
       "2016-03-21  0.003732  0.000634  0.000162    0.002073    0.002802  ...   \n",
       "2016-03-22  0.003902  0.000861  0.000142    0.001372    0.002358  ...   \n",
       "\n",
       "               50VAR    100VAR  10VAR_diff  20VAR_diff  50VAR_diff  \\\n",
       "Date                                                                 \n",
       "2016-03-16  0.000235  0.000186    0.067113   -0.333443   -0.042701   \n",
       "2016-03-17  0.000239  0.000196    0.574650    0.335006    0.016966   \n",
       "2016-03-18  0.000243  0.000197    0.216084    0.157569    0.015395   \n",
       "2016-03-21  0.000236  0.000197    0.025909   -0.013764   -0.028007   \n",
       "2016-03-22  0.000232  0.000197    0.001085   -0.019033   -0.016331   \n",
       "\n",
       "            100VAR_diff  10SMA_Vol_diff  20SMA_Vol_diff  50SMA_Vol_diff  \\\n",
       "Date                                                                      \n",
       "2016-03-16     0.003142        0.011905       -0.038732       -0.005083   \n",
       "2016-03-17     0.049218        0.000000       -0.109375       -0.005109   \n",
       "2016-03-18     0.006568        0.889109        0.841780        0.628910   \n",
       "2016-03-21     0.001367        0.012386        0.015815        0.008924   \n",
       "2016-03-22     0.000186        0.006477        0.007846       -0.011401   \n",
       "\n",
       "            100SMA_Vol_diff  \n",
       "Date                         \n",
       "2016-03-16         0.002223  \n",
       "2016-03-17        -0.002228  \n",
       "2016-03-18         0.212097  \n",
       "2016-03-21         0.004449  \n",
       "2016-03-22        -0.002868  \n",
       "\n",
       "[5 rows x 38 columns]"
      ]
     },
     "execution_count": 5,
     "metadata": {},
     "output_type": "execute_result"
    }
   ],
   "source": [
    "y = data_df[\"Target\"].copy()\n",
    "y.tail()\n",
    "\n",
    "X = data_df.drop(columns=[\"Target\",\n",
    "                          \"Close\", \n",
    "                          \"Returns\", \n",
    "                          \"10SMA\", \n",
    "                          \"20SMA\", \n",
    "                          \"50SMA\", \n",
    "                          \"100SMA\", \n",
    "                          \"10EMA\", \n",
    "                          \"20EMA\", \n",
    "                          \"50EMA\", \n",
    "                          \"100EMA\", \n",
    "                          \"MACD\", \n",
    "                          \"signal\", \n",
    "                          \"MACD_hist\", \n",
    "                          \"RSI\", \n",
    "                          \"10HMA\", \n",
    "                          \"20HMA\", \n",
    "                          \"50HMA\", \n",
    "                          \"100HMA\", \n",
    "                          \"Volume\", \n",
    "                          \"10SMA_Vol\", \n",
    "                          \"20SMA_Vol\", \n",
    "                          \"50SMA_Vol\", \n",
    "                          \"100SMA_Vol\"]).copy()\n",
    "\n",
    "X.head()\n"
   ]
  },
  {
   "cell_type": "code",
   "execution_count": 6,
   "metadata": {},
   "outputs": [
    {
     "name": "stdout",
     "output_type": "stream",
     "text": [
      "2016-03-16 00:00:00\n",
      "2030-03-16 00:00:00\n"
     ]
    }
   ],
   "source": [
    "# Set Training periods\n",
    "training_begin = X.index.min()\n",
    "training_end = X.index.min() + DateOffset(years=14)\n",
    "\n",
    "print(training_begin)\n",
    "print(training_end)"
   ]
  },
  {
   "cell_type": "code",
   "execution_count": 7,
   "metadata": {},
   "outputs": [
    {
     "data": {
      "text/html": [
       "<div>\n",
       "<style scoped>\n",
       "    .dataframe tbody tr th:only-of-type {\n",
       "        vertical-align: middle;\n",
       "    }\n",
       "\n",
       "    .dataframe tbody tr th {\n",
       "        vertical-align: top;\n",
       "    }\n",
       "\n",
       "    .dataframe thead th {\n",
       "        text-align: right;\n",
       "    }\n",
       "</style>\n",
       "<table border=\"1\" class=\"dataframe\">\n",
       "  <thead>\n",
       "    <tr style=\"text-align: right;\">\n",
       "      <th></th>\n",
       "      <th>10SMA_diff</th>\n",
       "      <th>20SMA_diff</th>\n",
       "      <th>50SMA_diff</th>\n",
       "      <th>100SMA_diff</th>\n",
       "      <th>10SMA%</th>\n",
       "      <th>20SMA%</th>\n",
       "      <th>50SMA%</th>\n",
       "      <th>100SMA%</th>\n",
       "      <th>10EMA_diff</th>\n",
       "      <th>20EMA_diff</th>\n",
       "      <th>...</th>\n",
       "      <th>50VAR</th>\n",
       "      <th>100VAR</th>\n",
       "      <th>10VAR_diff</th>\n",
       "      <th>20VAR_diff</th>\n",
       "      <th>50VAR_diff</th>\n",
       "      <th>100VAR_diff</th>\n",
       "      <th>10SMA_Vol_diff</th>\n",
       "      <th>20SMA_Vol_diff</th>\n",
       "      <th>50SMA_Vol_diff</th>\n",
       "      <th>100SMA_Vol_diff</th>\n",
       "    </tr>\n",
       "    <tr>\n",
       "      <th>Date</th>\n",
       "      <th></th>\n",
       "      <th></th>\n",
       "      <th></th>\n",
       "      <th></th>\n",
       "      <th></th>\n",
       "      <th></th>\n",
       "      <th></th>\n",
       "      <th></th>\n",
       "      <th></th>\n",
       "      <th></th>\n",
       "      <th></th>\n",
       "      <th></th>\n",
       "      <th></th>\n",
       "      <th></th>\n",
       "      <th></th>\n",
       "      <th></th>\n",
       "      <th></th>\n",
       "      <th></th>\n",
       "      <th></th>\n",
       "      <th></th>\n",
       "      <th></th>\n",
       "    </tr>\n",
       "  </thead>\n",
       "  <tbody>\n",
       "    <tr>\n",
       "      <th>2016-03-16</th>\n",
       "      <td>0.001959</td>\n",
       "      <td>0.004357</td>\n",
       "      <td>0.000339</td>\n",
       "      <td>-0.000032</td>\n",
       "      <td>0.001991</td>\n",
       "      <td>0.004450</td>\n",
       "      <td>0.000441</td>\n",
       "      <td>0.000062</td>\n",
       "      <td>0.002720</td>\n",
       "      <td>0.002924</td>\n",
       "      <td>...</td>\n",
       "      <td>0.000235</td>\n",
       "      <td>0.000186</td>\n",
       "      <td>0.067113</td>\n",
       "      <td>-0.333443</td>\n",
       "      <td>-0.042701</td>\n",
       "      <td>0.003142</td>\n",
       "      <td>0.011905</td>\n",
       "      <td>-0.038732</td>\n",
       "      <td>-0.005083</td>\n",
       "      <td>0.002223</td>\n",
       "    </tr>\n",
       "    <tr>\n",
       "      <th>2016-03-17</th>\n",
       "      <td>0.005176</td>\n",
       "      <td>0.005473</td>\n",
       "      <td>0.000415</td>\n",
       "      <td>0.000182</td>\n",
       "      <td>0.005199</td>\n",
       "      <td>0.005506</td>\n",
       "      <td>0.000505</td>\n",
       "      <td>0.000270</td>\n",
       "      <td>0.008314</td>\n",
       "      <td>0.005886</td>\n",
       "      <td>...</td>\n",
       "      <td>0.000239</td>\n",
       "      <td>0.000196</td>\n",
       "      <td>0.574650</td>\n",
       "      <td>0.335006</td>\n",
       "      <td>0.016966</td>\n",
       "      <td>0.049218</td>\n",
       "      <td>0.000000</td>\n",
       "      <td>-0.109375</td>\n",
       "      <td>-0.005109</td>\n",
       "      <td>-0.002228</td>\n",
       "    </tr>\n",
       "    <tr>\n",
       "      <th>2016-03-18</th>\n",
       "      <td>0.003172</td>\n",
       "      <td>0.004644</td>\n",
       "      <td>0.000264</td>\n",
       "      <td>0.000133</td>\n",
       "      <td>0.003266</td>\n",
       "      <td>0.004754</td>\n",
       "      <td>0.000369</td>\n",
       "      <td>0.000226</td>\n",
       "      <td>0.003688</td>\n",
       "      <td>0.003659</td>\n",
       "      <td>...</td>\n",
       "      <td>0.000243</td>\n",
       "      <td>0.000197</td>\n",
       "      <td>0.216084</td>\n",
       "      <td>0.157569</td>\n",
       "      <td>0.015395</td>\n",
       "      <td>0.006568</td>\n",
       "      <td>0.889109</td>\n",
       "      <td>0.841780</td>\n",
       "      <td>0.628910</td>\n",
       "      <td>0.212097</td>\n",
       "    </tr>\n",
       "    <tr>\n",
       "      <th>2016-03-21</th>\n",
       "      <td>0.002712</td>\n",
       "      <td>0.003639</td>\n",
       "      <td>0.000542</td>\n",
       "      <td>0.000066</td>\n",
       "      <td>0.002823</td>\n",
       "      <td>0.003732</td>\n",
       "      <td>0.000634</td>\n",
       "      <td>0.000162</td>\n",
       "      <td>0.002073</td>\n",
       "      <td>0.002802</td>\n",
       "      <td>...</td>\n",
       "      <td>0.000236</td>\n",
       "      <td>0.000197</td>\n",
       "      <td>0.025909</td>\n",
       "      <td>-0.013764</td>\n",
       "      <td>-0.028007</td>\n",
       "      <td>0.001367</td>\n",
       "      <td>0.012386</td>\n",
       "      <td>0.015815</td>\n",
       "      <td>0.008924</td>\n",
       "      <td>0.004449</td>\n",
       "    </tr>\n",
       "    <tr>\n",
       "      <th>2016-03-22</th>\n",
       "      <td>0.002676</td>\n",
       "      <td>0.003781</td>\n",
       "      <td>0.000775</td>\n",
       "      <td>0.000046</td>\n",
       "      <td>0.002798</td>\n",
       "      <td>0.003902</td>\n",
       "      <td>0.000861</td>\n",
       "      <td>0.000142</td>\n",
       "      <td>0.001372</td>\n",
       "      <td>0.002358</td>\n",
       "      <td>...</td>\n",
       "      <td>0.000232</td>\n",
       "      <td>0.000197</td>\n",
       "      <td>0.001085</td>\n",
       "      <td>-0.019033</td>\n",
       "      <td>-0.016331</td>\n",
       "      <td>0.000186</td>\n",
       "      <td>0.006477</td>\n",
       "      <td>0.007846</td>\n",
       "      <td>-0.011401</td>\n",
       "      <td>-0.002868</td>\n",
       "    </tr>\n",
       "  </tbody>\n",
       "</table>\n",
       "<p>5 rows × 38 columns</p>\n",
       "</div>"
      ],
      "text/plain": [
       "            10SMA_diff  20SMA_diff  50SMA_diff  100SMA_diff    10SMA%  \\\n",
       "Date                                                                    \n",
       "2016-03-16    0.001959    0.004357    0.000339    -0.000032  0.001991   \n",
       "2016-03-17    0.005176    0.005473    0.000415     0.000182  0.005199   \n",
       "2016-03-18    0.003172    0.004644    0.000264     0.000133  0.003266   \n",
       "2016-03-21    0.002712    0.003639    0.000542     0.000066  0.002823   \n",
       "2016-03-22    0.002676    0.003781    0.000775     0.000046  0.002798   \n",
       "\n",
       "              20SMA%    50SMA%   100SMA%  10EMA_diff  20EMA_diff  ...  \\\n",
       "Date                                                              ...   \n",
       "2016-03-16  0.004450  0.000441  0.000062    0.002720    0.002924  ...   \n",
       "2016-03-17  0.005506  0.000505  0.000270    0.008314    0.005886  ...   \n",
       "2016-03-18  0.004754  0.000369  0.000226    0.003688    0.003659  ...   \n",
       "2016-03-21  0.003732  0.000634  0.000162    0.002073    0.002802  ...   \n",
       "2016-03-22  0.003902  0.000861  0.000142    0.001372    0.002358  ...   \n",
       "\n",
       "               50VAR    100VAR  10VAR_diff  20VAR_diff  50VAR_diff  \\\n",
       "Date                                                                 \n",
       "2016-03-16  0.000235  0.000186    0.067113   -0.333443   -0.042701   \n",
       "2016-03-17  0.000239  0.000196    0.574650    0.335006    0.016966   \n",
       "2016-03-18  0.000243  0.000197    0.216084    0.157569    0.015395   \n",
       "2016-03-21  0.000236  0.000197    0.025909   -0.013764   -0.028007   \n",
       "2016-03-22  0.000232  0.000197    0.001085   -0.019033   -0.016331   \n",
       "\n",
       "            100VAR_diff  10SMA_Vol_diff  20SMA_Vol_diff  50SMA_Vol_diff  \\\n",
       "Date                                                                      \n",
       "2016-03-16     0.003142        0.011905       -0.038732       -0.005083   \n",
       "2016-03-17     0.049218        0.000000       -0.109375       -0.005109   \n",
       "2016-03-18     0.006568        0.889109        0.841780        0.628910   \n",
       "2016-03-21     0.001367        0.012386        0.015815        0.008924   \n",
       "2016-03-22     0.000186        0.006477        0.007846       -0.011401   \n",
       "\n",
       "            100SMA_Vol_diff  \n",
       "Date                         \n",
       "2016-03-16         0.002223  \n",
       "2016-03-17        -0.002228  \n",
       "2016-03-18         0.212097  \n",
       "2016-03-21         0.004449  \n",
       "2016-03-22        -0.002868  \n",
       "\n",
       "[5 rows x 38 columns]"
      ]
     },
     "metadata": {},
     "output_type": "display_data"
    },
    {
     "data": {
      "text/html": [
       "<div>\n",
       "<style scoped>\n",
       "    .dataframe tbody tr th:only-of-type {\n",
       "        vertical-align: middle;\n",
       "    }\n",
       "\n",
       "    .dataframe tbody tr th {\n",
       "        vertical-align: top;\n",
       "    }\n",
       "\n",
       "    .dataframe thead th {\n",
       "        text-align: right;\n",
       "    }\n",
       "</style>\n",
       "<table border=\"1\" class=\"dataframe\">\n",
       "  <thead>\n",
       "    <tr style=\"text-align: right;\">\n",
       "      <th></th>\n",
       "      <th>10SMA_diff</th>\n",
       "      <th>20SMA_diff</th>\n",
       "      <th>50SMA_diff</th>\n",
       "      <th>100SMA_diff</th>\n",
       "      <th>10SMA%</th>\n",
       "      <th>20SMA%</th>\n",
       "      <th>50SMA%</th>\n",
       "      <th>100SMA%</th>\n",
       "      <th>10EMA_diff</th>\n",
       "      <th>20EMA_diff</th>\n",
       "      <th>...</th>\n",
       "      <th>50VAR</th>\n",
       "      <th>100VAR</th>\n",
       "      <th>10VAR_diff</th>\n",
       "      <th>20VAR_diff</th>\n",
       "      <th>50VAR_diff</th>\n",
       "      <th>100VAR_diff</th>\n",
       "      <th>10SMA_Vol_diff</th>\n",
       "      <th>20SMA_Vol_diff</th>\n",
       "      <th>50SMA_Vol_diff</th>\n",
       "      <th>100SMA_Vol_diff</th>\n",
       "    </tr>\n",
       "    <tr>\n",
       "      <th>Date</th>\n",
       "      <th></th>\n",
       "      <th></th>\n",
       "      <th></th>\n",
       "      <th></th>\n",
       "      <th></th>\n",
       "      <th></th>\n",
       "      <th></th>\n",
       "      <th></th>\n",
       "      <th></th>\n",
       "      <th></th>\n",
       "      <th></th>\n",
       "      <th></th>\n",
       "      <th></th>\n",
       "      <th></th>\n",
       "      <th></th>\n",
       "      <th></th>\n",
       "      <th></th>\n",
       "      <th></th>\n",
       "      <th></th>\n",
       "      <th></th>\n",
       "      <th></th>\n",
       "    </tr>\n",
       "  </thead>\n",
       "  <tbody>\n",
       "  </tbody>\n",
       "</table>\n",
       "<p>0 rows × 38 columns</p>\n",
       "</div>"
      ],
      "text/plain": [
       "Empty DataFrame\n",
       "Columns: [10SMA_diff, 20SMA_diff, 50SMA_diff, 100SMA_diff, 10SMA%, 20SMA%, 50SMA%, 100SMA%, 10EMA_diff, 20EMA_diff, 50EMA_diff, 100EMA_diff, 10EMA%, 20EMA%, 50EMA%, 100EMA%, MACD_hist_diff, RSI_diff, 10HMA_diff, 20HMA_diff, 50HMA_diff, 100HMA_diff, 10HMA%, 20HMA%, 50HMA%, 100HMA%, 10VAR, 20VAR, 50VAR, 100VAR, 10VAR_diff, 20VAR_diff, 50VAR_diff, 100VAR_diff, 10SMA_Vol_diff, 20SMA_Vol_diff, 50SMA_Vol_diff, 100SMA_Vol_diff]\n",
       "Index: []\n",
       "\n",
       "[0 rows x 38 columns]"
      ]
     },
     "metadata": {},
     "output_type": "display_data"
    }
   ],
   "source": [
    "X_train = X.loc[training_begin:training_end]\n",
    "y_train = y.loc[training_begin:training_end]\n",
    "\n",
    "X_test = X.loc[training_end:]\n",
    "y_test = y.loc[training_end:]\n",
    "\n",
    "display(X_train.head())\n",
    "display(X_test.head())"
   ]
  },
  {
   "cell_type": "code",
   "execution_count": 8,
   "metadata": {},
   "outputs": [
    {
     "ename": "ValueError",
     "evalue": "Found array with 0 sample(s) (shape=(0, 38)) while a minimum of 1 is required by StandardScaler.",
     "output_type": "error",
     "traceback": [
      "\u001b[1;31m---------------------------------------------------------------------------\u001b[0m",
      "\u001b[1;31mValueError\u001b[0m                                Traceback (most recent call last)",
      "\u001b[1;32m<ipython-input-8-55b4752e5dc8>\u001b[0m in \u001b[0;36m<module>\u001b[1;34m\u001b[0m\n\u001b[0;32m      6\u001b[0m \u001b[1;31m# Fit the scaler to the features training dataset\u001b[0m\u001b[1;33m\u001b[0m\u001b[1;33m\u001b[0m\u001b[1;33m\u001b[0m\u001b[0m\n\u001b[0;32m      7\u001b[0m \u001b[0mX_train_scaled\u001b[0m \u001b[1;33m=\u001b[0m \u001b[0mX_scaler\u001b[0m\u001b[1;33m.\u001b[0m\u001b[0mtransform\u001b[0m\u001b[1;33m(\u001b[0m\u001b[0mX_train\u001b[0m\u001b[1;33m)\u001b[0m\u001b[1;33m\u001b[0m\u001b[1;33m\u001b[0m\u001b[0m\n\u001b[1;32m----> 8\u001b[1;33m \u001b[0mX_test_scaled\u001b[0m \u001b[1;33m=\u001b[0m \u001b[0mX_scaler\u001b[0m\u001b[1;33m.\u001b[0m\u001b[0mtransform\u001b[0m\u001b[1;33m(\u001b[0m\u001b[0mX_test\u001b[0m\u001b[1;33m)\u001b[0m\u001b[1;33m\u001b[0m\u001b[1;33m\u001b[0m\u001b[0m\n\u001b[0m",
      "\u001b[1;32m~\\anaconda3\\envs\\dev\\lib\\site-packages\\sklearn\\preprocessing\\_data.py\u001b[0m in \u001b[0;36mtransform\u001b[1;34m(self, X, copy)\u001b[0m\n\u001b[0;32m    884\u001b[0m                                 \u001b[0maccept_sparse\u001b[0m\u001b[1;33m=\u001b[0m\u001b[1;34m'csr'\u001b[0m\u001b[1;33m,\u001b[0m \u001b[0mcopy\u001b[0m\u001b[1;33m=\u001b[0m\u001b[0mcopy\u001b[0m\u001b[1;33m,\u001b[0m\u001b[1;33m\u001b[0m\u001b[1;33m\u001b[0m\u001b[0m\n\u001b[0;32m    885\u001b[0m                                 \u001b[0mestimator\u001b[0m\u001b[1;33m=\u001b[0m\u001b[0mself\u001b[0m\u001b[1;33m,\u001b[0m \u001b[0mdtype\u001b[0m\u001b[1;33m=\u001b[0m\u001b[0mFLOAT_DTYPES\u001b[0m\u001b[1;33m,\u001b[0m\u001b[1;33m\u001b[0m\u001b[1;33m\u001b[0m\u001b[0m\n\u001b[1;32m--> 886\u001b[1;33m                                 force_all_finite='allow-nan')\n\u001b[0m\u001b[0;32m    887\u001b[0m \u001b[1;33m\u001b[0m\u001b[0m\n\u001b[0;32m    888\u001b[0m         \u001b[1;32mif\u001b[0m \u001b[0msparse\u001b[0m\u001b[1;33m.\u001b[0m\u001b[0missparse\u001b[0m\u001b[1;33m(\u001b[0m\u001b[0mX\u001b[0m\u001b[1;33m)\u001b[0m\u001b[1;33m:\u001b[0m\u001b[1;33m\u001b[0m\u001b[1;33m\u001b[0m\u001b[0m\n",
      "\u001b[1;32m~\\anaconda3\\envs\\dev\\lib\\site-packages\\sklearn\\base.py\u001b[0m in \u001b[0;36m_validate_data\u001b[1;34m(self, X, y, reset, validate_separately, **check_params)\u001b[0m\n\u001b[0;32m    419\u001b[0m             \u001b[0mout\u001b[0m \u001b[1;33m=\u001b[0m \u001b[0mX\u001b[0m\u001b[1;33m\u001b[0m\u001b[1;33m\u001b[0m\u001b[0m\n\u001b[0;32m    420\u001b[0m         \u001b[1;32melif\u001b[0m \u001b[0misinstance\u001b[0m\u001b[1;33m(\u001b[0m\u001b[0my\u001b[0m\u001b[1;33m,\u001b[0m \u001b[0mstr\u001b[0m\u001b[1;33m)\u001b[0m \u001b[1;32mand\u001b[0m \u001b[0my\u001b[0m \u001b[1;33m==\u001b[0m \u001b[1;34m'no_validation'\u001b[0m\u001b[1;33m:\u001b[0m\u001b[1;33m\u001b[0m\u001b[1;33m\u001b[0m\u001b[0m\n\u001b[1;32m--> 421\u001b[1;33m             \u001b[0mX\u001b[0m \u001b[1;33m=\u001b[0m \u001b[0mcheck_array\u001b[0m\u001b[1;33m(\u001b[0m\u001b[0mX\u001b[0m\u001b[1;33m,\u001b[0m \u001b[1;33m**\u001b[0m\u001b[0mcheck_params\u001b[0m\u001b[1;33m)\u001b[0m\u001b[1;33m\u001b[0m\u001b[1;33m\u001b[0m\u001b[0m\n\u001b[0m\u001b[0;32m    422\u001b[0m             \u001b[0mout\u001b[0m \u001b[1;33m=\u001b[0m \u001b[0mX\u001b[0m\u001b[1;33m\u001b[0m\u001b[1;33m\u001b[0m\u001b[0m\n\u001b[0;32m    423\u001b[0m         \u001b[1;32melse\u001b[0m\u001b[1;33m:\u001b[0m\u001b[1;33m\u001b[0m\u001b[1;33m\u001b[0m\u001b[0m\n",
      "\u001b[1;32m~\\anaconda3\\envs\\dev\\lib\\site-packages\\sklearn\\utils\\validation.py\u001b[0m in \u001b[0;36minner_f\u001b[1;34m(*args, **kwargs)\u001b[0m\n\u001b[0;32m     61\u001b[0m             \u001b[0mextra_args\u001b[0m \u001b[1;33m=\u001b[0m \u001b[0mlen\u001b[0m\u001b[1;33m(\u001b[0m\u001b[0margs\u001b[0m\u001b[1;33m)\u001b[0m \u001b[1;33m-\u001b[0m \u001b[0mlen\u001b[0m\u001b[1;33m(\u001b[0m\u001b[0mall_args\u001b[0m\u001b[1;33m)\u001b[0m\u001b[1;33m\u001b[0m\u001b[1;33m\u001b[0m\u001b[0m\n\u001b[0;32m     62\u001b[0m             \u001b[1;32mif\u001b[0m \u001b[0mextra_args\u001b[0m \u001b[1;33m<=\u001b[0m \u001b[1;36m0\u001b[0m\u001b[1;33m:\u001b[0m\u001b[1;33m\u001b[0m\u001b[1;33m\u001b[0m\u001b[0m\n\u001b[1;32m---> 63\u001b[1;33m                 \u001b[1;32mreturn\u001b[0m \u001b[0mf\u001b[0m\u001b[1;33m(\u001b[0m\u001b[1;33m*\u001b[0m\u001b[0margs\u001b[0m\u001b[1;33m,\u001b[0m \u001b[1;33m**\u001b[0m\u001b[0mkwargs\u001b[0m\u001b[1;33m)\u001b[0m\u001b[1;33m\u001b[0m\u001b[1;33m\u001b[0m\u001b[0m\n\u001b[0m\u001b[0;32m     64\u001b[0m \u001b[1;33m\u001b[0m\u001b[0m\n\u001b[0;32m     65\u001b[0m             \u001b[1;31m# extra_args > 0\u001b[0m\u001b[1;33m\u001b[0m\u001b[1;33m\u001b[0m\u001b[1;33m\u001b[0m\u001b[0m\n",
      "\u001b[1;32m~\\anaconda3\\envs\\dev\\lib\\site-packages\\sklearn\\utils\\validation.py\u001b[0m in \u001b[0;36mcheck_array\u001b[1;34m(array, accept_sparse, accept_large_sparse, dtype, order, copy, force_all_finite, ensure_2d, allow_nd, ensure_min_samples, ensure_min_features, estimator)\u001b[0m\n\u001b[0;32m    727\u001b[0m                              \u001b[1;34m\" minimum of %d is required%s.\"\u001b[0m\u001b[1;33m\u001b[0m\u001b[1;33m\u001b[0m\u001b[0m\n\u001b[0;32m    728\u001b[0m                              % (n_samples, array.shape, ensure_min_samples,\n\u001b[1;32m--> 729\u001b[1;33m                                 context))\n\u001b[0m\u001b[0;32m    730\u001b[0m \u001b[1;33m\u001b[0m\u001b[0m\n\u001b[0;32m    731\u001b[0m     \u001b[1;32mif\u001b[0m \u001b[0mensure_min_features\u001b[0m \u001b[1;33m>\u001b[0m \u001b[1;36m0\u001b[0m \u001b[1;32mand\u001b[0m \u001b[0marray\u001b[0m\u001b[1;33m.\u001b[0m\u001b[0mndim\u001b[0m \u001b[1;33m==\u001b[0m \u001b[1;36m2\u001b[0m\u001b[1;33m:\u001b[0m\u001b[1;33m\u001b[0m\u001b[1;33m\u001b[0m\u001b[0m\n",
      "\u001b[1;31mValueError\u001b[0m: Found array with 0 sample(s) (shape=(0, 38)) while a minimum of 1 is required by StandardScaler."
     ]
    }
   ],
   "source": [
    "scaler = StandardScaler()\n",
    "\n",
    "# Fit the scaler to the features training dataset\n",
    "X_scaler = scaler.fit(X_train)\n",
    "\n",
    "# Fit the scaler to the features training dataset\n",
    "X_train_scaled = X_scaler.transform(X_train)\n",
    "X_test_scaled = X_scaler.transform(X_test)"
   ]
  },
  {
   "cell_type": "code",
   "execution_count": 9,
   "metadata": {},
   "outputs": [
    {
     "data": {
      "text/plain": [
       "38"
      ]
     },
     "execution_count": 9,
     "metadata": {},
     "output_type": "execute_result"
    }
   ],
   "source": [
    "# Define the the number of inputs (features) to the model\n",
    "number_input_features = len(X_train.iloc[0])\n",
    "\n",
    "# Review the number of features\n",
    "number_input_features\n"
   ]
  },
  {
   "cell_type": "code",
   "execution_count": 10,
   "metadata": {},
   "outputs": [
    {
     "data": {
      "text/plain": [
       "19"
      ]
     },
     "execution_count": 10,
     "metadata": {},
     "output_type": "execute_result"
    }
   ],
   "source": [
    "# Define the number of neurons in the output layer\n",
    "number_output_neurons = 1\n",
    "\n",
    "# Define the number of hidden nodes for the first hidden layer\n",
    "hidden_nodes_layer1 =  (number_input_features + number_output_neurons) // 2\n",
    "\n",
    "# Review the number hidden nodes in the first layer\n",
    "hidden_nodes_layer1\n",
    "\n"
   ]
  },
  {
   "cell_type": "code",
   "execution_count": 11,
   "metadata": {},
   "outputs": [
    {
     "data": {
      "text/plain": [
       "10"
      ]
     },
     "execution_count": 11,
     "metadata": {},
     "output_type": "execute_result"
    }
   ],
   "source": [
    "# Define the number of hidden nodes for the second hidden layer\n",
    "hidden_nodes_layer2 =  (hidden_nodes_layer1 + number_output_neurons) // 2\n",
    "\n",
    "# Review the number hidden nodes in the second layer\n",
    "hidden_nodes_layer2"
   ]
  },
  {
   "cell_type": "code",
   "execution_count": 12,
   "metadata": {},
   "outputs": [
    {
     "data": {
      "text/plain": [
       "5"
      ]
     },
     "execution_count": 12,
     "metadata": {},
     "output_type": "execute_result"
    }
   ],
   "source": [
    "# Define the number of hidden nodes for the second hidden layer\n",
    "hidden_nodes_layer3 =  (hidden_nodes_layer2 + number_output_neurons) // 2\n",
    "\n",
    "# Review the number hidden nodes in the second layer\n",
    "hidden_nodes_layer3"
   ]
  },
  {
   "cell_type": "code",
   "execution_count": 13,
   "metadata": {},
   "outputs": [
    {
     "data": {
      "text/plain": [
       "3"
      ]
     },
     "execution_count": 13,
     "metadata": {},
     "output_type": "execute_result"
    }
   ],
   "source": [
    "# Define the number of hidden nodes for the second hidden layer\n",
    "hidden_nodes_layer4 =  (hidden_nodes_layer3 + number_output_neurons) // 2\n",
    "\n",
    "# Review the number hidden nodes in the second layer\n",
    "hidden_nodes_layer4"
   ]
  },
  {
   "cell_type": "code",
   "execution_count": 14,
   "metadata": {},
   "outputs": [],
   "source": [
    "# Create the Sequential model instance\n",
    "nn = Sequential()\n"
   ]
  },
  {
   "cell_type": "code",
   "execution_count": 15,
   "metadata": {},
   "outputs": [],
   "source": [
    "# Add the first hidden layer\n",
    "nn.add(Dense(units=hidden_nodes_layer1, activation=\"relu\", input_dim=number_input_features))\n",
    "\n",
    "# Add a dropout layer\n",
    "nn.add(Dropout(0.5))\n",
    "\n",
    "# Add the second hidden layer\n",
    "nn.add(Dense(units=hidden_nodes_layer2, activation=\"relu\"))\n",
    "\n",
    "# Add a dropout layer\n",
    "nn.add(Dropout(0.5))\n",
    "\n",
    "# Add the third hidden layer\n",
    "nn.add(Dense(units=hidden_nodes_layer3, activation=\"relu\"))\n",
    "\n",
    "# Add a dropout layer\n",
    "nn.add(Dropout(0.5))\n",
    "\n",
    "# Add the fourth hidden layer\n",
    "nn.add(Dense(units=hidden_nodes_layer4, activation=\"relu\"))\n",
    "\n",
    "# Add a dropout layer\n",
    "nn.add(Dropout(0.5))\n",
    "\n",
    "\n",
    "# Add the output layer to the model specifying the number of output neurons and activation function\n",
    "nn.add(Dense(units=number_output_neurons, activation=\"sigmoid\"))"
   ]
  },
  {
   "cell_type": "code",
   "execution_count": 16,
   "metadata": {},
   "outputs": [
    {
     "name": "stdout",
     "output_type": "stream",
     "text": [
      "Model: \"sequential\"\n",
      "_________________________________________________________________\n",
      "Layer (type)                 Output Shape              Param #   \n",
      "=================================================================\n",
      "dense (Dense)                (None, 19)                741       \n",
      "_________________________________________________________________\n",
      "dropout (Dropout)            (None, 19)                0         \n",
      "_________________________________________________________________\n",
      "dense_1 (Dense)              (None, 10)                200       \n",
      "_________________________________________________________________\n",
      "dropout_1 (Dropout)          (None, 10)                0         \n",
      "_________________________________________________________________\n",
      "dense_2 (Dense)              (None, 5)                 55        \n",
      "_________________________________________________________________\n",
      "dropout_2 (Dropout)          (None, 5)                 0         \n",
      "_________________________________________________________________\n",
      "dense_3 (Dense)              (None, 3)                 18        \n",
      "_________________________________________________________________\n",
      "dropout_3 (Dropout)          (None, 3)                 0         \n",
      "_________________________________________________________________\n",
      "dense_4 (Dense)              (None, 1)                 4         \n",
      "=================================================================\n",
      "Total params: 1,018\n",
      "Trainable params: 1,018\n",
      "Non-trainable params: 0\n",
      "_________________________________________________________________\n"
     ]
    }
   ],
   "source": [
    "# Display the Sequential model summary\n",
    "nn.summary()\n"
   ]
  },
  {
   "cell_type": "code",
   "execution_count": 17,
   "metadata": {},
   "outputs": [],
   "source": [
    "# Compile the Sequential model\n",
    "nn.compile(loss=\"binary_crossentropy\", optimizer=\"adam\", metrics=[\"accuracy\"])"
   ]
  },
  {
   "cell_type": "code",
   "execution_count": 18,
   "metadata": {},
   "outputs": [],
   "source": [
    "# Fit the model using 50 epochs and the training data\n",
    "model = nn.fit(X_train_scaled, y_train, epochs=1500, verbose=0)"
   ]
  },
  {
   "cell_type": "code",
   "execution_count": 19,
   "metadata": {},
   "outputs": [
    {
     "name": "stdout",
     "output_type": "stream",
     "text": [
      "111/111 - 0s - loss: 0.6797 - accuracy: 0.5898\n",
      "Loss: 0.6796635389328003, Accuracy: 0.5898382067680359\n"
     ]
    }
   ],
   "source": [
    "# Evaluate the model loss and accuracy metrics using the evaluate method and the test data\n",
    "model_loss, model_accuracy = nn.evaluate(X_train_scaled, y_train, verbose=2)\n",
    "\n",
    "# Display the model loss and accuracy results\n",
    "print(f\"Loss: {model_loss}, Accuracy: {model_accuracy}\")\n"
   ]
  },
  {
   "cell_type": "code",
   "execution_count": 20,
   "metadata": {},
   "outputs": [
    {
     "name": "stdout",
     "output_type": "stream",
     "text": [
      "67/67 - 0s - loss: 0.6951 - accuracy: 0.4525\n",
      "Loss: 0.6950585842132568, Accuracy: 0.45252716541290283\n"
     ]
    }
   ],
   "source": [
    "# Evaluate the model loss and accuracy metrics using the evaluate method and the test data\n",
    "model_loss, model_accuracy = nn.evaluate(X_test_scaled, y_test, verbose=2)\n",
    "\n",
    "# Display the model loss and accuracy results\n",
    "print(f\"Loss: {model_loss}, Accuracy: {model_accuracy}\")"
   ]
  },
  {
   "cell_type": "code",
   "execution_count": 21,
   "metadata": {},
   "outputs": [
    {
     "data": {
      "text/plain": [
       "<AxesSubplot:>"
      ]
     },
     "execution_count": 21,
     "metadata": {},
     "output_type": "execute_result"
    },
    {
     "data": {
      "image/png": "[encoded data removed]",
      "text/plain": [
       "<Figure size 432x288 with 1 Axes>"
      ]
     },
     "metadata": {
      "needs_background": "light"
     },
     "output_type": "display_data"
    }
   ],
   "source": [
    "model_plot = pd.DataFrame(model.history, index=range(1, len(model.history[\"loss\"]) + 1))\n",
    "\n",
    "model_plot.plot(y=\"loss\")"
   ]
  },
  {
   "cell_type": "code",
   "execution_count": 22,
   "metadata": {},
   "outputs": [
    {
     "data": {
      "text/plain": [
       "<AxesSubplot:>"
      ]
     },
     "execution_count": 22,
     "metadata": {},
     "output_type": "execute_result"
    },
    {
     "data": {
      "image/png": "[encoded data removed]",
      "text/plain": [
       "<Figure size 432x288 with 1 Axes>"
      ]
     },
     "metadata": {
      "needs_background": "light"
     },
     "output_type": "display_data"
    }
   ],
   "source": [
    "model_plot.plot(y=\"accuracy\")"
   ]
  },
  {
   "cell_type": "code",
   "execution_count": 23,
   "metadata": {},
   "outputs": [],
   "source": [
    "# Set the file path for the first alternative model\n",
    "file_path = Path(\"./ETF_Neural_Nets/saved_neural_nets/XLRE.h5\")\n",
    "\n",
    "# Export your model to a HDF5 file\n",
    "nn.save(file_path)\n"
   ]
  },
  {
   "cell_type": "markdown",
   "metadata": {},
   "source": [
    "### Predictions and Performance for the bots"
   ]
  },
  {
   "cell_type": "code",
   "execution_count": 5,
   "metadata": {},
   "outputs": [],
   "source": [
    "# Prepare data for back tests\n",
    "\n",
    "def prepare_df(new_df):\n",
    "    data_df = prepare_data(new_df)\n",
    "    data_df = data_df.drop(columns=[\"Close\", \n",
    "                          \"Returns\", \n",
    "                          \"10SMA\", \n",
    "                          \"20SMA\", \n",
    "                          \"50SMA\", \n",
    "                          \"100SMA\", \n",
    "                          \"10EMA\", \n",
    "                          \"20EMA\", \n",
    "                          \"50EMA\", \n",
    "                          \"100EMA\", \n",
    "                          \"MACD\", \n",
    "                          \"signal\", \n",
    "                          \"MACD_hist\", \n",
    "                          \"RSI\", \n",
    "                          \"10HMA\", \n",
    "                          \"20HMA\", \n",
    "                          \"50HMA\", \n",
    "                          \"100HMA\", \n",
    "                          \"Volume\", \n",
    "                          \"10SMA_Vol\", \n",
    "                          \"20SMA_Vol\", \n",
    "                          \"50SMA_Vol\", \n",
    "                          \"100SMA_Vol\"]).copy()\n",
    "    data_df = data_df.dropna()\n",
    "    return data_df\n",
    "    \n",
    "# scale data to be used in predictions\n",
    "    \n",
    "def scale_data(data_df):\n",
    "    scaler = StandardScaler()\n",
    "\n",
    "    data_scaler = scaler.fit(data_df)\n",
    "\n",
    "\n",
    "    data_df = data_scaler.transform(data_df)\n",
    "\n",
    "    \n",
    "    return data_df"
   ]
  },
  {
   "cell_type": "code",
   "execution_count": 6,
   "metadata": {},
   "outputs": [],
   "source": [
    "def run_backtest(tkr):\n",
    "    #Load saved model\n",
    "    saved_model = tf.keras.models.load_model(Path(f\"./saved_neural_nets/{tkr}.h5\"))\n",
    "\n",
    "    # import historical data from yahoo finance\n",
    "\n",
    "    end_date = date.today() + DateOffset(days=1)\n",
    "    start_date = end_date - DateOffset(years=4)\n",
    "\n",
    "    data = yf.download(tkr, start=start_date, end=end_date)\n",
    "\n",
    "    # Run my dataframe prep function on the data\n",
    "    test_df = prepare_df(data)\n",
    "    scaled_df = scale_data(test_df)\n",
    "\n",
    "    # test_df.tail(10)\n",
    "\n",
    "    predictions = (saved_model.predict(scaled_df) > 0.5).astype(\"int32\")\n",
    "    predictions_list = []\n",
    "    for prediction in predictions:\n",
    "      predictions_list.append(tf.keras.backend.get_value(prediction[0]))\n",
    "    test_df['prediction'] = predictions_list\n",
    "\n",
    "    test_df['prediction'] = test_df['prediction'].shift(1)\n",
    "\n",
    "    prediction_df = test_df['prediction']\n",
    "    close_df = data.drop(columns=['Open', 'High', 'Low', 'Volume', 'Adj Close'])\n",
    "    close_df['Returns'] = close_df['Close'].pct_change()\n",
    "\n",
    "    backtest_df = pd.concat([close_df, prediction_df], axis='columns', join='inner')\n",
    "\n",
    "    backtest_df['Strat_Returns'] = backtest_df['Returns'] * backtest_df['prediction']\n",
    "\n",
    "    backtest_df['Cumulative_Return'] = (1+ backtest_df['Strat_Returns']).cumprod()\n",
    "    \n",
    "    return backtest_df"
   ]
  },
  {
   "cell_type": "code",
   "execution_count": 7,
   "metadata": {},
   "outputs": [
    {
     "name": "stdout",
     "output_type": "stream",
     "text": [
      "[*********************100%***********************]  1 of 1 completed\n",
      "[*********************100%***********************]  1 of 1 completed\n",
      "[*********************100%***********************]  1 of 1 completed\n",
      "[*********************100%***********************]  1 of 1 completed\n",
      "[*********************100%***********************]  1 of 1 completed\n",
      "[*********************100%***********************]  1 of 1 completed\n",
      "[*********************100%***********************]  1 of 1 completed\n",
      "[*********************100%***********************]  1 of 1 completed\n",
      "[*********************100%***********************]  1 of 1 completed\n",
      "[*********************100%***********************]  1 of 1 completed\n",
      "[*********************100%***********************]  1 of 1 completed\n",
      "[*********************100%***********************]  1 of 1 completed\n",
      "[*********************100%***********************]  1 of 1 completed\n",
      "[*********************100%***********************]  1 of 1 completed\n"
     ]
    },
    {
     "data": {
      "text/html": [
       "<div>\n",
       "<style scoped>\n",
       "    .dataframe tbody tr th:only-of-type {\n",
       "        vertical-align: middle;\n",
       "    }\n",
       "\n",
       "    .dataframe tbody tr th {\n",
       "        vertical-align: top;\n",
       "    }\n",
       "\n",
       "    .dataframe thead th {\n",
       "        text-align: right;\n",
       "    }\n",
       "</style>\n",
       "<table border=\"1\" class=\"dataframe\">\n",
       "  <thead>\n",
       "    <tr style=\"text-align: right;\">\n",
       "      <th></th>\n",
       "      <th>GLD</th>\n",
       "      <th>GLD_ret</th>\n",
       "      <th>GLD_pos</th>\n",
       "      <th>GLD_daily</th>\n",
       "      <th>GLD_tot</th>\n",
       "      <th>QQQ</th>\n",
       "      <th>QQQ_ret</th>\n",
       "      <th>QQQ_pos</th>\n",
       "      <th>QQQ_daily</th>\n",
       "      <th>QQQ_tot</th>\n",
       "      <th>...</th>\n",
       "      <th>XLV</th>\n",
       "      <th>XLV_ret</th>\n",
       "      <th>XLV_pos</th>\n",
       "      <th>XLV_daily</th>\n",
       "      <th>XLV_tot</th>\n",
       "      <th>XLY</th>\n",
       "      <th>XLY_ret</th>\n",
       "      <th>XLY_pos</th>\n",
       "      <th>XLY_daily</th>\n",
       "      <th>XLY_tot</th>\n",
       "    </tr>\n",
       "    <tr>\n",
       "      <th>Date</th>\n",
       "      <th></th>\n",
       "      <th></th>\n",
       "      <th></th>\n",
       "      <th></th>\n",
       "      <th></th>\n",
       "      <th></th>\n",
       "      <th></th>\n",
       "      <th></th>\n",
       "      <th></th>\n",
       "      <th></th>\n",
       "      <th></th>\n",
       "      <th></th>\n",
       "      <th></th>\n",
       "      <th></th>\n",
       "      <th></th>\n",
       "      <th></th>\n",
       "      <th></th>\n",
       "      <th></th>\n",
       "      <th></th>\n",
       "      <th></th>\n",
       "      <th></th>\n",
       "    </tr>\n",
       "  </thead>\n",
       "  <tbody>\n",
       "    <tr>\n",
       "      <th>2021-10-27</th>\n",
       "      <td>168.119995</td>\n",
       "      <td>0.002624</td>\n",
       "      <td>1.0</td>\n",
       "      <td>0.002624</td>\n",
       "      <td>1.319106</td>\n",
       "      <td>380.000000</td>\n",
       "      <td>0.002321</td>\n",
       "      <td>1.0</td>\n",
       "      <td>0.002321</td>\n",
       "      <td>2.042879</td>\n",
       "      <td>...</td>\n",
       "      <td>131.429993</td>\n",
       "      <td>-0.007926</td>\n",
       "      <td>0.0</td>\n",
       "      <td>-0.000000</td>\n",
       "      <td>1.489449</td>\n",
       "      <td>198.000000</td>\n",
       "      <td>0.002227</td>\n",
       "      <td>0.0</td>\n",
       "      <td>0.0</td>\n",
       "      <td>0.914422</td>\n",
       "    </tr>\n",
       "    <tr>\n",
       "      <th>2021-10-28</th>\n",
       "      <td>168.080002</td>\n",
       "      <td>-0.000238</td>\n",
       "      <td>1.0</td>\n",
       "      <td>-0.000238</td>\n",
       "      <td>1.318792</td>\n",
       "      <td>384.220001</td>\n",
       "      <td>0.011105</td>\n",
       "      <td>1.0</td>\n",
       "      <td>0.011105</td>\n",
       "      <td>2.065566</td>\n",
       "      <td>...</td>\n",
       "      <td>132.529999</td>\n",
       "      <td>0.008370</td>\n",
       "      <td>1.0</td>\n",
       "      <td>0.008370</td>\n",
       "      <td>1.501915</td>\n",
       "      <td>200.630005</td>\n",
       "      <td>0.013283</td>\n",
       "      <td>0.0</td>\n",
       "      <td>0.0</td>\n",
       "      <td>0.914422</td>\n",
       "    </tr>\n",
       "    <tr>\n",
       "      <th>2021-10-29</th>\n",
       "      <td>166.649994</td>\n",
       "      <td>-0.008508</td>\n",
       "      <td>1.0</td>\n",
       "      <td>-0.008508</td>\n",
       "      <td>1.307572</td>\n",
       "      <td>386.109985</td>\n",
       "      <td>0.004919</td>\n",
       "      <td>1.0</td>\n",
       "      <td>0.004919</td>\n",
       "      <td>2.075726</td>\n",
       "      <td>...</td>\n",
       "      <td>133.820007</td>\n",
       "      <td>0.009734</td>\n",
       "      <td>1.0</td>\n",
       "      <td>0.009734</td>\n",
       "      <td>1.516534</td>\n",
       "      <td>201.149994</td>\n",
       "      <td>0.002592</td>\n",
       "      <td>0.0</td>\n",
       "      <td>0.0</td>\n",
       "      <td>0.914422</td>\n",
       "    </tr>\n",
       "    <tr>\n",
       "      <th>2021-11-01</th>\n",
       "      <td>167.520004</td>\n",
       "      <td>0.005221</td>\n",
       "      <td>1.0</td>\n",
       "      <td>0.005221</td>\n",
       "      <td>1.314398</td>\n",
       "      <td>387.429993</td>\n",
       "      <td>0.003419</td>\n",
       "      <td>1.0</td>\n",
       "      <td>0.003419</td>\n",
       "      <td>2.082823</td>\n",
       "      <td>...</td>\n",
       "      <td>133.660004</td>\n",
       "      <td>-0.001196</td>\n",
       "      <td>0.0</td>\n",
       "      <td>-0.000000</td>\n",
       "      <td>1.516534</td>\n",
       "      <td>204.839996</td>\n",
       "      <td>0.018345</td>\n",
       "      <td>0.0</td>\n",
       "      <td>0.0</td>\n",
       "      <td>0.914422</td>\n",
       "    </tr>\n",
       "    <tr>\n",
       "      <th>2021-11-02</th>\n",
       "      <td>167.160004</td>\n",
       "      <td>-0.002149</td>\n",
       "      <td>1.0</td>\n",
       "      <td>-0.002149</td>\n",
       "      <td>1.311573</td>\n",
       "      <td>389.049988</td>\n",
       "      <td>0.004181</td>\n",
       "      <td>1.0</td>\n",
       "      <td>0.004181</td>\n",
       "      <td>2.091532</td>\n",
       "      <td>...</td>\n",
       "      <td>134.500000</td>\n",
       "      <td>0.006285</td>\n",
       "      <td>0.0</td>\n",
       "      <td>0.000000</td>\n",
       "      <td>1.516534</td>\n",
       "      <td>203.460007</td>\n",
       "      <td>-0.006737</td>\n",
       "      <td>0.0</td>\n",
       "      <td>-0.0</td>\n",
       "      <td>0.914422</td>\n",
       "    </tr>\n",
       "  </tbody>\n",
       "</table>\n",
       "<p>5 rows × 65 columns</p>\n",
       "</div>"
      ],
      "text/plain": [
       "                   GLD   GLD_ret  GLD_pos  GLD_daily   GLD_tot         QQQ  \\\n",
       "Date                                                                         \n",
       "2021-10-27  168.119995  0.002624      1.0   0.002624  1.319106  380.000000   \n",
       "2021-10-28  168.080002 -0.000238      1.0  -0.000238  1.318792  384.220001   \n",
       "2021-10-29  166.649994 -0.008508      1.0  -0.008508  1.307572  386.109985   \n",
       "2021-11-01  167.520004  0.005221      1.0   0.005221  1.314398  387.429993   \n",
       "2021-11-02  167.160004 -0.002149      1.0  -0.002149  1.311573  389.049988   \n",
       "\n",
       "             QQQ_ret  QQQ_pos  QQQ_daily   QQQ_tot  ...         XLV   XLV_ret  \\\n",
       "Date                                                ...                         \n",
       "2021-10-27  0.002321      1.0   0.002321  2.042879  ...  131.429993 -0.007926   \n",
       "2021-10-28  0.011105      1.0   0.011105  2.065566  ...  132.529999  0.008370   \n",
       "2021-10-29  0.004919      1.0   0.004919  2.075726  ...  133.820007  0.009734   \n",
       "2021-11-01  0.003419      1.0   0.003419  2.082823  ...  133.660004 -0.001196   \n",
       "2021-11-02  0.004181      1.0   0.004181  2.091532  ...  134.500000  0.006285   \n",
       "\n",
       "            XLV_pos  XLV_daily   XLV_tot         XLY   XLY_ret  XLY_pos  \\\n",
       "Date                                                                      \n",
       "2021-10-27      0.0  -0.000000  1.489449  198.000000  0.002227      0.0   \n",
       "2021-10-28      1.0   0.008370  1.501915  200.630005  0.013283      0.0   \n",
       "2021-10-29      1.0   0.009734  1.516534  201.149994  0.002592      0.0   \n",
       "2021-11-01      0.0  -0.000000  1.516534  204.839996  0.018345      0.0   \n",
       "2021-11-02      0.0   0.000000  1.516534  203.460007 -0.006737      0.0   \n",
       "\n",
       "            XLY_daily   XLY_tot  \n",
       "Date                             \n",
       "2021-10-27        0.0  0.914422  \n",
       "2021-10-28        0.0  0.914422  \n",
       "2021-10-29        0.0  0.914422  \n",
       "2021-11-01        0.0  0.914422  \n",
       "2021-11-02       -0.0  0.914422  \n",
       "\n",
       "[5 rows x 65 columns]"
      ]
     },
     "execution_count": 7,
     "metadata": {},
     "output_type": "execute_result"
    }
   ],
   "source": [
    "# Get cumulative Returns for all Positions\n",
    "possible_positions = ['GLD', 'QQQ', 'SPY', 'XLB', 'XLE', 'XLF', 'XLI', 'XLK', 'XLP', 'XLRE', 'XLU', 'XLV', 'XLY']\n",
    "\n",
    "total_backtest_df = run_backtest('GLD')\n",
    "total_backtest_df['GLD'] = total_backtest_df['Close']\n",
    "total_backtest_df['GLD_ret'] = total_backtest_df['Returns']\n",
    "total_backtest_df['GLD_pos'] = total_backtest_df['prediction']\n",
    "total_backtest_df['GLD_daily'] = total_backtest_df['Strat_Returns']\n",
    "total_backtest_df['GLD_tot'] = total_backtest_df['Cumulative_Return']\n",
    "\n",
    "total_backtest_df = total_backtest_df.drop(columns=['Close', 'Returns', 'prediction', 'Strat_Returns', 'Cumulative_Return'])\n",
    "\n",
    "\n",
    "for ticker in possible_positions:\n",
    "    temp_df = run_backtest(ticker)\n",
    "    total_backtest_df[ticker] = temp_df['Close']\n",
    "    total_backtest_df[f'{ticker}_ret'] = temp_df['Returns']\n",
    "    total_backtest_df[f'{ticker}_pos'] = temp_df['prediction']\n",
    "    total_backtest_df[f'{ticker}_daily'] = temp_df['Strat_Returns']\n",
    "    total_backtest_df[f'{ticker}_tot'] = temp_df['Cumulative_Return']\n",
    "\n",
    "total_backtest_df.tail()"
   ]
  },
  {
   "cell_type": "code",
   "execution_count": 8,
   "metadata": {},
   "outputs": [
    {
     "data": {
      "text/html": [
       "<div>\n",
       "<style scoped>\n",
       "    .dataframe tbody tr th:only-of-type {\n",
       "        vertical-align: middle;\n",
       "    }\n",
       "\n",
       "    .dataframe tbody tr th {\n",
       "        vertical-align: top;\n",
       "    }\n",
       "\n",
       "    .dataframe thead th {\n",
       "        text-align: right;\n",
       "    }\n",
       "</style>\n",
       "<table border=\"1\" class=\"dataframe\">\n",
       "  <thead>\n",
       "    <tr style=\"text-align: right;\">\n",
       "      <th></th>\n",
       "      <th>GLD</th>\n",
       "      <th>QQQ</th>\n",
       "      <th>SPY</th>\n",
       "      <th>XLB</th>\n",
       "      <th>XLE</th>\n",
       "      <th>XLF</th>\n",
       "      <th>XLI</th>\n",
       "      <th>XLK</th>\n",
       "      <th>XLP</th>\n",
       "      <th>XLRE</th>\n",
       "      <th>XLU</th>\n",
       "      <th>XLV</th>\n",
       "      <th>XLY</th>\n",
       "    </tr>\n",
       "    <tr>\n",
       "      <th>Date</th>\n",
       "      <th></th>\n",
       "      <th></th>\n",
       "      <th></th>\n",
       "      <th></th>\n",
       "      <th></th>\n",
       "      <th></th>\n",
       "      <th></th>\n",
       "      <th></th>\n",
       "      <th></th>\n",
       "      <th></th>\n",
       "      <th></th>\n",
       "      <th></th>\n",
       "      <th></th>\n",
       "    </tr>\n",
       "  </thead>\n",
       "  <tbody>\n",
       "    <tr>\n",
       "      <th>2018-04-16</th>\n",
       "      <td>0.001412</td>\n",
       "      <td>0.007622</td>\n",
       "      <td>0.008222</td>\n",
       "      <td>0.013423</td>\n",
       "      <td>0.010223</td>\n",
       "      <td>0.004370</td>\n",
       "      <td>0.010001</td>\n",
       "      <td>0.0</td>\n",
       "      <td>0.010839</td>\n",
       "      <td>0.000000</td>\n",
       "      <td>0.013657</td>\n",
       "      <td>0.007939</td>\n",
       "      <td>0.000000</td>\n",
       "    </tr>\n",
       "    <tr>\n",
       "      <th>2018-04-17</th>\n",
       "      <td>0.000940</td>\n",
       "      <td>0.021525</td>\n",
       "      <td>0.010698</td>\n",
       "      <td>0.011377</td>\n",
       "      <td>0.000000</td>\n",
       "      <td>0.000000</td>\n",
       "      <td>0.008430</td>\n",
       "      <td>0.0</td>\n",
       "      <td>0.002257</td>\n",
       "      <td>0.013364</td>\n",
       "      <td>0.010105</td>\n",
       "      <td>0.007756</td>\n",
       "      <td>0.018631</td>\n",
       "    </tr>\n",
       "    <tr>\n",
       "      <th>2018-04-18</th>\n",
       "      <td>0.000783</td>\n",
       "      <td>0.002047</td>\n",
       "      <td>0.000740</td>\n",
       "      <td>0.007220</td>\n",
       "      <td>0.015741</td>\n",
       "      <td>-0.004714</td>\n",
       "      <td>0.010350</td>\n",
       "      <td>-0.0</td>\n",
       "      <td>-0.000000</td>\n",
       "      <td>-0.000000</td>\n",
       "      <td>-0.003727</td>\n",
       "      <td>0.000842</td>\n",
       "      <td>0.000000</td>\n",
       "    </tr>\n",
       "    <tr>\n",
       "      <th>2018-04-19</th>\n",
       "      <td>-0.001955</td>\n",
       "      <td>-0.009192</td>\n",
       "      <td>-0.005548</td>\n",
       "      <td>-0.011169</td>\n",
       "      <td>0.001224</td>\n",
       "      <td>0.000000</td>\n",
       "      <td>-0.002758</td>\n",
       "      <td>-0.0</td>\n",
       "      <td>-0.028933</td>\n",
       "      <td>-0.000000</td>\n",
       "      <td>-0.000591</td>\n",
       "      <td>-0.008410</td>\n",
       "      <td>-0.000000</td>\n",
       "    </tr>\n",
       "    <tr>\n",
       "      <th>2018-04-20</th>\n",
       "      <td>-0.007602</td>\n",
       "      <td>-0.015827</td>\n",
       "      <td>-0.008479</td>\n",
       "      <td>-0.005394</td>\n",
       "      <td>-0.004752</td>\n",
       "      <td>0.000000</td>\n",
       "      <td>-0.004346</td>\n",
       "      <td>-0.0</td>\n",
       "      <td>-0.016748</td>\n",
       "      <td>-0.000000</td>\n",
       "      <td>-0.009062</td>\n",
       "      <td>-0.005331</td>\n",
       "      <td>-0.010188</td>\n",
       "    </tr>\n",
       "  </tbody>\n",
       "</table>\n",
       "</div>"
      ],
      "text/plain": [
       "                 GLD       QQQ       SPY       XLB       XLE       XLF  \\\n",
       "Date                                                                     \n",
       "2018-04-16  0.001412  0.007622  0.008222  0.013423  0.010223  0.004370   \n",
       "2018-04-17  0.000940  0.021525  0.010698  0.011377  0.000000  0.000000   \n",
       "2018-04-18  0.000783  0.002047  0.000740  0.007220  0.015741 -0.004714   \n",
       "2018-04-19 -0.001955 -0.009192 -0.005548 -0.011169  0.001224  0.000000   \n",
       "2018-04-20 -0.007602 -0.015827 -0.008479 -0.005394 -0.004752  0.000000   \n",
       "\n",
       "                 XLI  XLK       XLP      XLRE       XLU       XLV       XLY  \n",
       "Date                                                                         \n",
       "2018-04-16  0.010001  0.0  0.010839  0.000000  0.013657  0.007939  0.000000  \n",
       "2018-04-17  0.008430  0.0  0.002257  0.013364  0.010105  0.007756  0.018631  \n",
       "2018-04-18  0.010350 -0.0 -0.000000 -0.000000 -0.003727  0.000842  0.000000  \n",
       "2018-04-19 -0.002758 -0.0 -0.028933 -0.000000 -0.000591 -0.008410 -0.000000  \n",
       "2018-04-20 -0.004346 -0.0 -0.016748 -0.000000 -0.009062 -0.005331 -0.010188  "
      ]
     },
     "execution_count": 8,
     "metadata": {},
     "output_type": "execute_result"
    }
   ],
   "source": [
    "# clean up the backtest data for the markowitz calculations\n",
    "daily_returns_df = total_backtest_df\n",
    "\n",
    "for ticker in possible_positions:\n",
    "    daily_returns_df[ticker] = daily_returns_df[f'{ticker}_daily']\n",
    "    daily_returns_df = daily_returns_df.drop(columns=[f'{ticker}_ret', f'{ticker}_daily', f'{ticker}_pos', f'{ticker}_tot'])\n",
    "\n",
    "daily_returns_df = daily_returns_df.dropna()\n",
    "daily_returns_df.head()"
   ]
  },
  {
   "cell_type": "code",
   "execution_count": 9,
   "metadata": {},
   "outputs": [
    {
     "data": {
      "text/html": [
       "<div>\n",
       "<style scoped>\n",
       "    .dataframe tbody tr th:only-of-type {\n",
       "        vertical-align: middle;\n",
       "    }\n",
       "\n",
       "    .dataframe tbody tr th {\n",
       "        vertical-align: top;\n",
       "    }\n",
       "\n",
       "    .dataframe thead th {\n",
       "        text-align: right;\n",
       "    }\n",
       "</style>\n",
       "<table border=\"1\" class=\"dataframe\">\n",
       "  <thead>\n",
       "    <tr style=\"text-align: right;\">\n",
       "      <th></th>\n",
       "      <th>GLD</th>\n",
       "      <th>QQQ</th>\n",
       "      <th>SPY</th>\n",
       "      <th>XLB</th>\n",
       "      <th>XLE</th>\n",
       "      <th>XLF</th>\n",
       "      <th>XLI</th>\n",
       "      <th>XLK</th>\n",
       "      <th>XLP</th>\n",
       "      <th>XLRE</th>\n",
       "      <th>XLU</th>\n",
       "      <th>XLV</th>\n",
       "      <th>XLY</th>\n",
       "    </tr>\n",
       "  </thead>\n",
       "  <tbody>\n",
       "    <tr>\n",
       "      <th>GLD</th>\n",
       "      <td>0.020942</td>\n",
       "      <td>0.001542</td>\n",
       "      <td>0.002491</td>\n",
       "      <td>0.003953</td>\n",
       "      <td>0.000040</td>\n",
       "      <td>-0.000043</td>\n",
       "      <td>0.001089</td>\n",
       "      <td>0.000802</td>\n",
       "      <td>0.002561</td>\n",
       "      <td>0.001420</td>\n",
       "      <td>0.005802</td>\n",
       "      <td>0.001285</td>\n",
       "      <td>0.001069</td>\n",
       "    </tr>\n",
       "    <tr>\n",
       "      <th>QQQ</th>\n",
       "      <td>0.001542</td>\n",
       "      <td>0.039530</td>\n",
       "      <td>0.028153</td>\n",
       "      <td>0.022347</td>\n",
       "      <td>0.022945</td>\n",
       "      <td>0.021805</td>\n",
       "      <td>0.025512</td>\n",
       "      <td>0.006462</td>\n",
       "      <td>0.015837</td>\n",
       "      <td>0.007596</td>\n",
       "      <td>0.011750</td>\n",
       "      <td>0.021749</td>\n",
       "      <td>0.013023</td>\n",
       "    </tr>\n",
       "    <tr>\n",
       "      <th>SPY</th>\n",
       "      <td>0.002491</td>\n",
       "      <td>0.028153</td>\n",
       "      <td>0.041725</td>\n",
       "      <td>0.038964</td>\n",
       "      <td>0.043472</td>\n",
       "      <td>0.041459</td>\n",
       "      <td>0.043119</td>\n",
       "      <td>0.006540</td>\n",
       "      <td>0.026545</td>\n",
       "      <td>0.015526</td>\n",
       "      <td>0.030869</td>\n",
       "      <td>0.031877</td>\n",
       "      <td>0.020524</td>\n",
       "    </tr>\n",
       "    <tr>\n",
       "      <th>XLB</th>\n",
       "      <td>0.003953</td>\n",
       "      <td>0.022347</td>\n",
       "      <td>0.038964</td>\n",
       "      <td>0.053305</td>\n",
       "      <td>0.051712</td>\n",
       "      <td>0.043916</td>\n",
       "      <td>0.047540</td>\n",
       "      <td>0.005263</td>\n",
       "      <td>0.026105</td>\n",
       "      <td>0.015924</td>\n",
       "      <td>0.032760</td>\n",
       "      <td>0.030231</td>\n",
       "      <td>0.019357</td>\n",
       "    </tr>\n",
       "    <tr>\n",
       "      <th>XLE</th>\n",
       "      <td>0.000040</td>\n",
       "      <td>0.022945</td>\n",
       "      <td>0.043472</td>\n",
       "      <td>0.051712</td>\n",
       "      <td>0.117777</td>\n",
       "      <td>0.056198</td>\n",
       "      <td>0.057513</td>\n",
       "      <td>0.004281</td>\n",
       "      <td>0.026585</td>\n",
       "      <td>0.018130</td>\n",
       "      <td>0.030386</td>\n",
       "      <td>0.032829</td>\n",
       "      <td>0.024266</td>\n",
       "    </tr>\n",
       "    <tr>\n",
       "      <th>XLF</th>\n",
       "      <td>-0.000043</td>\n",
       "      <td>0.021805</td>\n",
       "      <td>0.041459</td>\n",
       "      <td>0.043916</td>\n",
       "      <td>0.056198</td>\n",
       "      <td>0.063256</td>\n",
       "      <td>0.051268</td>\n",
       "      <td>0.004322</td>\n",
       "      <td>0.028436</td>\n",
       "      <td>0.016162</td>\n",
       "      <td>0.033115</td>\n",
       "      <td>0.031392</td>\n",
       "      <td>0.022601</td>\n",
       "    </tr>\n",
       "    <tr>\n",
       "      <th>XLI</th>\n",
       "      <td>0.001089</td>\n",
       "      <td>0.025512</td>\n",
       "      <td>0.043119</td>\n",
       "      <td>0.047540</td>\n",
       "      <td>0.057513</td>\n",
       "      <td>0.051268</td>\n",
       "      <td>0.061180</td>\n",
       "      <td>0.005323</td>\n",
       "      <td>0.028914</td>\n",
       "      <td>0.017853</td>\n",
       "      <td>0.034643</td>\n",
       "      <td>0.033493</td>\n",
       "      <td>0.021951</td>\n",
       "    </tr>\n",
       "    <tr>\n",
       "      <th>XLK</th>\n",
       "      <td>0.000802</td>\n",
       "      <td>0.006462</td>\n",
       "      <td>0.006540</td>\n",
       "      <td>0.005263</td>\n",
       "      <td>0.004281</td>\n",
       "      <td>0.004322</td>\n",
       "      <td>0.005323</td>\n",
       "      <td>0.010178</td>\n",
       "      <td>0.004054</td>\n",
       "      <td>0.001520</td>\n",
       "      <td>0.003625</td>\n",
       "      <td>0.004466</td>\n",
       "      <td>0.002783</td>\n",
       "    </tr>\n",
       "    <tr>\n",
       "      <th>XLP</th>\n",
       "      <td>0.002561</td>\n",
       "      <td>0.015837</td>\n",
       "      <td>0.026545</td>\n",
       "      <td>0.026105</td>\n",
       "      <td>0.026585</td>\n",
       "      <td>0.028436</td>\n",
       "      <td>0.028914</td>\n",
       "      <td>0.004054</td>\n",
       "      <td>0.029185</td>\n",
       "      <td>0.013179</td>\n",
       "      <td>0.029832</td>\n",
       "      <td>0.024289</td>\n",
       "      <td>0.013294</td>\n",
       "    </tr>\n",
       "    <tr>\n",
       "      <th>XLRE</th>\n",
       "      <td>0.001420</td>\n",
       "      <td>0.007596</td>\n",
       "      <td>0.015526</td>\n",
       "      <td>0.015924</td>\n",
       "      <td>0.018130</td>\n",
       "      <td>0.016162</td>\n",
       "      <td>0.017853</td>\n",
       "      <td>0.001520</td>\n",
       "      <td>0.013179</td>\n",
       "      <td>0.021153</td>\n",
       "      <td>0.020166</td>\n",
       "      <td>0.013674</td>\n",
       "      <td>0.007494</td>\n",
       "    </tr>\n",
       "    <tr>\n",
       "      <th>XLU</th>\n",
       "      <td>0.005802</td>\n",
       "      <td>0.011750</td>\n",
       "      <td>0.030869</td>\n",
       "      <td>0.032760</td>\n",
       "      <td>0.030386</td>\n",
       "      <td>0.033115</td>\n",
       "      <td>0.034643</td>\n",
       "      <td>0.003625</td>\n",
       "      <td>0.029832</td>\n",
       "      <td>0.020166</td>\n",
       "      <td>0.054342</td>\n",
       "      <td>0.028284</td>\n",
       "      <td>0.015384</td>\n",
       "    </tr>\n",
       "    <tr>\n",
       "      <th>XLV</th>\n",
       "      <td>0.001285</td>\n",
       "      <td>0.021749</td>\n",
       "      <td>0.031877</td>\n",
       "      <td>0.030231</td>\n",
       "      <td>0.032829</td>\n",
       "      <td>0.031392</td>\n",
       "      <td>0.033493</td>\n",
       "      <td>0.004466</td>\n",
       "      <td>0.024289</td>\n",
       "      <td>0.013674</td>\n",
       "      <td>0.028284</td>\n",
       "      <td>0.035948</td>\n",
       "      <td>0.016270</td>\n",
       "    </tr>\n",
       "    <tr>\n",
       "      <th>XLY</th>\n",
       "      <td>0.001069</td>\n",
       "      <td>0.013023</td>\n",
       "      <td>0.020524</td>\n",
       "      <td>0.019357</td>\n",
       "      <td>0.024266</td>\n",
       "      <td>0.022601</td>\n",
       "      <td>0.021951</td>\n",
       "      <td>0.002783</td>\n",
       "      <td>0.013294</td>\n",
       "      <td>0.007494</td>\n",
       "      <td>0.015384</td>\n",
       "      <td>0.016270</td>\n",
       "      <td>0.022983</td>\n",
       "    </tr>\n",
       "  </tbody>\n",
       "</table>\n",
       "</div>"
      ],
      "text/plain": [
       "           GLD       QQQ       SPY       XLB       XLE       XLF       XLI  \\\n",
       "GLD   0.020942  0.001542  0.002491  0.003953  0.000040 -0.000043  0.001089   \n",
       "QQQ   0.001542  0.039530  0.028153  0.022347  0.022945  0.021805  0.025512   \n",
       "SPY   0.002491  0.028153  0.041725  0.038964  0.043472  0.041459  0.043119   \n",
       "XLB   0.003953  0.022347  0.038964  0.053305  0.051712  0.043916  0.047540   \n",
       "XLE   0.000040  0.022945  0.043472  0.051712  0.117777  0.056198  0.057513   \n",
       "XLF  -0.000043  0.021805  0.041459  0.043916  0.056198  0.063256  0.051268   \n",
       "XLI   0.001089  0.025512  0.043119  0.047540  0.057513  0.051268  0.061180   \n",
       "XLK   0.000802  0.006462  0.006540  0.005263  0.004281  0.004322  0.005323   \n",
       "XLP   0.002561  0.015837  0.026545  0.026105  0.026585  0.028436  0.028914   \n",
       "XLRE  0.001420  0.007596  0.015526  0.015924  0.018130  0.016162  0.017853   \n",
       "XLU   0.005802  0.011750  0.030869  0.032760  0.030386  0.033115  0.034643   \n",
       "XLV   0.001285  0.021749  0.031877  0.030231  0.032829  0.031392  0.033493   \n",
       "XLY   0.001069  0.013023  0.020524  0.019357  0.024266  0.022601  0.021951   \n",
       "\n",
       "           XLK       XLP      XLRE       XLU       XLV       XLY  \n",
       "GLD   0.000802  0.002561  0.001420  0.005802  0.001285  0.001069  \n",
       "QQQ   0.006462  0.015837  0.007596  0.011750  0.021749  0.013023  \n",
       "SPY   0.006540  0.026545  0.015526  0.030869  0.031877  0.020524  \n",
       "XLB   0.005263  0.026105  0.015924  0.032760  0.030231  0.019357  \n",
       "XLE   0.004281  0.026585  0.018130  0.030386  0.032829  0.024266  \n",
       "XLF   0.004322  0.028436  0.016162  0.033115  0.031392  0.022601  \n",
       "XLI   0.005323  0.028914  0.017853  0.034643  0.033493  0.021951  \n",
       "XLK   0.010178  0.004054  0.001520  0.003625  0.004466  0.002783  \n",
       "XLP   0.004054  0.029185  0.013179  0.029832  0.024289  0.013294  \n",
       "XLRE  0.001520  0.013179  0.021153  0.020166  0.013674  0.007494  \n",
       "XLU   0.003625  0.029832  0.020166  0.054342  0.028284  0.015384  \n",
       "XLV   0.004466  0.024289  0.013674  0.028284  0.035948  0.016270  \n",
       "XLY   0.002783  0.013294  0.007494  0.015384  0.016270  0.022983  "
      ]
     },
     "execution_count": 9,
     "metadata": {},
     "output_type": "execute_result"
    }
   ],
   "source": [
    "# Calculate annual compound return and annualized covariance matrix\n",
    "\n",
    "means = (1+daily_returns_df.mean())**252 - 1\n",
    "\n",
    "covars = daily_returns_df.cov()*252\n",
    "\n",
    "# View the covariance matrix\n",
    "covars"
   ]
  },
  {
   "cell_type": "code",
   "execution_count": 10,
   "metadata": {},
   "outputs": [
    {
     "name": "stderr",
     "output_type": "stream",
     "text": [
      "100%|██████████| 100000/100000 [04:19<00:00, 385.22it/s]\n"
     ]
    }
   ],
   "source": [
    "# We are allowing the portfolio to use all of the assets (if we have time we can decrease this number to calculate a portfolio for smaller accounts)\n",
    "number_assets = 13\n",
    "\n",
    "\n",
    "# create lists to store all of our calculated data\n",
    "mean_variance_pairs = []\n",
    "weights_list=[]\n",
    "tickers_list=[]\n",
    "\n",
    "# generate random portfolio allocations\n",
    "\n",
    "for i in tqdm(range(100000)):\n",
    "    next_i = False\n",
    "    while True:\n",
    "        # this chooses positions randomly, replace is false since we will only have a max of one position in each ticker \n",
    "        assets = daily_returns_df.columns # we can use this code if we change the number of assets to not include every ETF --> np.random.choice(daily_returns_df.columns, number_assets, replace=False)\n",
    "        # chooses portfolio weights randomly and makes sure they sum to 100% (we could change this later if we wanted leveraged portfolios)\n",
    "        weights = np.random.rand(number_assets)\n",
    "        weights = weights/sum(weights)\n",
    "\n",
    "        # now we loop over the asset pairs to compute variance and annual return\n",
    "        portfolio_Exp_Variance = 0\n",
    "        portfolio_Exp_Return = 0\n",
    "        for i in range(len(assets)):\n",
    "            portfolio_Exp_Return += weights[i] * means.loc[assets[i]]\n",
    "            for j in range(len(assets)):\n",
    "                portfolio_Exp_Variance += weights[i] * weights[j] * covars.loc[assets[i], assets[j]]\n",
    "\n",
    "        # this skips over portfolios that dont improve upon the sharpe ratio ()\n",
    "        for Ret,Var in mean_variance_pairs:\n",
    "            if (Ret > portfolio_Exp_Return) & (Var < portfolio_Exp_Variance):\n",
    "                next_i = True\n",
    "                break\n",
    "        if next_i:\n",
    "            break\n",
    "\n",
    "        # puts the mean/variance pairs in a list for plotting\n",
    "        mean_variance_pairs.append([portfolio_Exp_Return, portfolio_Exp_Variance])\n",
    "        weights_list.append(weights)\n",
    "        tickers_list.append(assets)\n",
    "        break"
   ]
  },
  {
   "cell_type": "code",
   "execution_count": 11,
   "metadata": {},
   "outputs": [
    {
     "data": {
      "application/vnd.plotly.v1+json": {
       "config": {
        "plotlyServerURL": "https://plot.ly"
       },
       "data": [
        {
         "marker": {
          "color": [
           0.7764713948658838,
           0.8173704498994921,
           0.7813830881629867,
           0.8522280095337066,
           0.9220110963725696,
           0.7853080241843953,
           0.8762894724479791,
           0.8105724579025971,
           0.8498521323882595,
           0.8540580638551386,
           0.9813296199271443,
           0.9116635345190566,
           0.8361623296532058,
           0.9178801089178465,
           0.9606977342971604,
           0.8496710847451384,
           0.7802374121543956,
           1.0259138830808483,
           0.9052981829549608,
           0.9798635228682495,
           1.0277261999195135,
           0.6200202299739717,
           1.068826307000583,
           0.9949802085802779,
           0.998752715715513,
           1.0563568999390263,
           1.0234735293569899,
           1.0611292664200414,
           1.0200913203721038,
           0.8984057256434697,
           0.809490736599701,
           0.9454103901163043,
           0.9868163896999345,
           1.0482262369652497,
           1.0367673450326322,
           1.1295862059098631,
           1.0275533898598133,
           0.9928875343486278,
           0.9847344147843559,
           1.0395412901370022,
           0.9918455939451004,
           1.0589719396757389,
           1.0671098990337793,
           1.0014819891656697,
           1.1428771528899653,
           1.0541244765418416,
           1.005027684387315,
           1.0521196475850156,
           1.0626242712324183,
           1.0602597951320714,
           1.1080404543790021,
           1.0630587967264038,
           0.99434255116081,
           1.0236802410651584,
           1.076261806676633,
           1.0072518102310635,
           1.0823773852265597,
           1.1512985069127224,
           1.0437650090476422,
           0.8963998242340611,
           1.0971263440592236,
           1.0552635892125746,
           1.0627897042226901,
           1.1121138607241503,
           1.1956871540361231,
           0.9880798897565877,
           1.008173031675456,
           1.11710120353678,
           1.1489388030772507,
           0.9992953834884476,
           1.006991901233278,
           1.119788224054625,
           1.0401692904602764,
           1.0257919641523556,
           1.1626533080800456,
           1.180021857326364,
           1.056020148510603,
           1.0425038840909215,
           1.1242255775908698,
           1.160991640713098,
           1.0529350695836384
          ],
          "colorbar": {
           "title": {
            "text": "Sharpe<br>Ratio"
           }
          },
          "colorscale": [
           [
            0,
            "rgb(103,0,31)"
           ],
           [
            0.1,
            "rgb(178,24,43)"
           ],
           [
            0.2,
            "rgb(214,96,77)"
           ],
           [
            0.3,
            "rgb(244,165,130)"
           ],
           [
            0.4,
            "rgb(253,219,199)"
           ],
           [
            0.5,
            "rgb(247,247,247)"
           ],
           [
            0.6,
            "rgb(209,229,240)"
           ],
           [
            0.7,
            "rgb(146,197,222)"
           ],
           [
            0.8,
            "rgb(67,147,195)"
           ],
           [
            0.9,
            "rgb(33,102,172)"
           ],
           [
            1,
            "rgb(5,48,97)"
           ]
          ],
          "line": {
           "width": 1
          },
          "showscale": true,
          "size": 7
         },
         "mode": "markers",
         "text": [
          "['GLD' 'QQQ' 'SPY' 'XLB' 'XLE' 'XLF' 'XLI' 'XLK' 'XLP' 'XLRE' 'XLU' 'XLV'\n 'XLY']<br>[0.03 0.11 0.1  0.12 0.05 0.11 0.07 0.1  0.09 0.05 0.1  0.05 0.02]",
          "['GLD' 'QQQ' 'SPY' 'XLB' 'XLE' 'XLF' 'XLI' 'XLK' 'XLP' 'XLRE' 'XLU' 'XLV'\n 'XLY']<br>[0.11 0.09 0.1  0.07 0.03 0.03 0.06 0.1  0.1  0.06 0.13 0.04 0.1 ]",
          "['GLD' 'QQQ' 'SPY' 'XLB' 'XLE' 'XLF' 'XLI' 'XLK' 'XLP' 'XLRE' 'XLU' 'XLV'\n 'XLY']<br>[0.11 0.01 0.09 0.06 0.01 0.09 0.03 0.12 0.06 0.09 0.12 0.11 0.09]",
          "['GLD' 'QQQ' 'SPY' 'XLB' 'XLE' 'XLF' 'XLI' 'XLK' 'XLP' 'XLRE' 'XLU' 'XLV'\n 'XLY']<br>[0.01 0.15 0.06 0.16 0.03 0.09 0.02 0.11 0.12 0.08 0.07 0.05 0.06]",
          "['GLD' 'QQQ' 'SPY' 'XLB' 'XLE' 'XLF' 'XLI' 'XLK' 'XLP' 'XLRE' 'XLU' 'XLV'\n 'XLY']<br>[0.08 0.12 0.1  0.1  0.   0.09 0.08 0.08 0.1  0.07 0.03 0.11 0.04]",
          "['GLD' 'QQQ' 'SPY' 'XLB' 'XLE' 'XLF' 'XLI' 'XLK' 'XLP' 'XLRE' 'XLU' 'XLV'\n 'XLY']<br>[0.18 0.06 0.02 0.17 0.07 0.06 0.01 0.17 0.09 0.09 0.04 0.01 0.04]",
          "['GLD' 'QQQ' 'SPY' 'XLB' 'XLE' 'XLF' 'XLI' 'XLK' 'XLP' 'XLRE' 'XLU' 'XLV'\n 'XLY']<br>[0.1  0.15 0.01 0.05 0.   0.06 0.04 0.07 0.02 0.13 0.14 0.13 0.1 ]",
          "['GLD' 'QQQ' 'SPY' 'XLB' 'XLE' 'XLF' 'XLI' 'XLK' 'XLP' 'XLRE' 'XLU' 'XLV'\n 'XLY']<br>[0.08 0.13 0.16 0.01 0.02 0.15 0.16 0.   0.09 0.06 0.11 0.01 0.01]",
          "['GLD' 'QQQ' 'SPY' 'XLB' 'XLE' 'XLF' 'XLI' 'XLK' 'XLP' 'XLRE' 'XLU' 'XLV'\n 'XLY']<br>[0.08 0.07 0.08 0.1  0.05 0.   0.13 0.12 0.15 0.14 0.01 0.04 0.03]",
          "['GLD' 'QQQ' 'SPY' 'XLB' 'XLE' 'XLF' 'XLI' 'XLK' 'XLP' 'XLRE' 'XLU' 'XLV'\n 'XLY']<br>[0.13 0.04 0.15 0.01 0.02 0.07 0.12 0.13 0.08 0.14 0.   0.   0.11]",
          "['GLD' 'QQQ' 'SPY' 'XLB' 'XLE' 'XLF' 'XLI' 'XLK' 'XLP' 'XLRE' 'XLU' 'XLV'\n 'XLY']<br>[0.1  0.15 0.06 0.01 0.01 0.01 0.   0.11 0.15 0.09 0.16 0.09 0.05]",
          "['GLD' 'QQQ' 'SPY' 'XLB' 'XLE' 'XLF' 'XLI' 'XLK' 'XLP' 'XLRE' 'XLU' 'XLV'\n 'XLY']<br>[0.11 0.13 0.07 0.09 0.04 0.01 0.13 0.11 0.04 0.07 0.06 0.09 0.05]",
          "['GLD' 'QQQ' 'SPY' 'XLB' 'XLE' 'XLF' 'XLI' 'XLK' 'XLP' 'XLRE' 'XLU' 'XLV'\n 'XLY']<br>[0.13 0.11 0.18 0.   0.05 0.09 0.18 0.05 0.03 0.01 0.05 0.09 0.01]",
          "['GLD' 'QQQ' 'SPY' 'XLB' 'XLE' 'XLF' 'XLI' 'XLK' 'XLP' 'XLRE' 'XLU' 'XLV'\n 'XLY']<br>[0.09 0.04 0.2  0.07 0.01 0.03 0.05 0.08 0.12 0.09 0.   0.15 0.06]",
          "['GLD' 'QQQ' 'SPY' 'XLB' 'XLE' 'XLF' 'XLI' 'XLK' 'XLP' 'XLRE' 'XLU' 'XLV'\n 'XLY']<br>[0.11 0.09 0.15 0.01 0.02 0.02 0.12 0.1  0.07 0.12 0.06 0.1  0.02]",
          "['GLD' 'QQQ' 'SPY' 'XLB' 'XLE' 'XLF' 'XLI' 'XLK' 'XLP' 'XLRE' 'XLU' 'XLV'\n 'XLY']<br>[0.14 0.08 0.05 0.15 0.01 0.04 0.05 0.09 0.1  0.11 0.   0.05 0.13]",
          "['GLD' 'QQQ' 'SPY' 'XLB' 'XLE' 'XLF' 'XLI' 'XLK' 'XLP' 'XLRE' 'XLU' 'XLV'\n 'XLY']<br>[0.18 0.05 0.1  0.07 0.04 0.04 0.   0.09 0.17 0.06 0.08 0.02 0.12]",
          "['GLD' 'QQQ' 'SPY' 'XLB' 'XLE' 'XLF' 'XLI' 'XLK' 'XLP' 'XLRE' 'XLU' 'XLV'\n 'XLY']<br>[0.05 0.15 0.16 0.01 0.   0.06 0.09 0.15 0.05 0.05 0.02 0.15 0.06]",
          "['GLD' 'QQQ' 'SPY' 'XLB' 'XLE' 'XLF' 'XLI' 'XLK' 'XLP' 'XLRE' 'XLU' 'XLV'\n 'XLY']<br>[0.14 0.08 0.08 0.04 0.02 0.02 0.06 0.1  0.16 0.15 0.07 0.01 0.07]",
          "['GLD' 'QQQ' 'SPY' 'XLB' 'XLE' 'XLF' 'XLI' 'XLK' 'XLP' 'XLRE' 'XLU' 'XLV'\n 'XLY']<br>[0.11 0.17 0.04 0.07 0.05 0.   0.08 0.15 0.13 0.08 0.06 0.02 0.04]",
          "['GLD' 'QQQ' 'SPY' 'XLB' 'XLE' 'XLF' 'XLI' 'XLK' 'XLP' 'XLRE' 'XLU' 'XLV'\n 'XLY']<br>[0.19 0.15 0.03 0.17 0.   0.06 0.06 0.14 0.04 0.08 0.08 0.   0.  ]",
          "['GLD' 'QQQ' 'SPY' 'XLB' 'XLE' 'XLF' 'XLI' 'XLK' 'XLP' 'XLRE' 'XLU' 'XLV'\n 'XLY']<br>[0.14 0.05 0.02 0.03 0.09 0.02 0.05 0.11 0.06 0.16 0.06 0.03 0.17]",
          "['GLD' 'QQQ' 'SPY' 'XLB' 'XLE' 'XLF' 'XLI' 'XLK' 'XLP' 'XLRE' 'XLU' 'XLV'\n 'XLY']<br>[0.14 0.14 0.04 0.01 0.01 0.09 0.14 0.17 0.09 0.13 0.03 0.02 0.01]",
          "['GLD' 'QQQ' 'SPY' 'XLB' 'XLE' 'XLF' 'XLI' 'XLK' 'XLP' 'XLRE' 'XLU' 'XLV'\n 'XLY']<br>[0.11 0.14 0.12 0.14 0.   0.08 0.01 0.14 0.02 0.01 0.07 0.12 0.04]",
          "['GLD' 'QQQ' 'SPY' 'XLB' 'XLE' 'XLF' 'XLI' 'XLK' 'XLP' 'XLRE' 'XLU' 'XLV'\n 'XLY']<br>[0.16 0.12 0.08 0.   0.03 0.03 0.   0.14 0.12 0.12 0.03 0.06 0.1 ]",
          "['GLD' 'QQQ' 'SPY' 'XLB' 'XLE' 'XLF' 'XLI' 'XLK' 'XLP' 'XLRE' 'XLU' 'XLV'\n 'XLY']<br>[0.14 0.13 0.01 0.09 0.   0.01 0.02 0.13 0.13 0.11 0.07 0.13 0.03]",
          "['GLD' 'QQQ' 'SPY' 'XLB' 'XLE' 'XLF' 'XLI' 'XLK' 'XLP' 'XLRE' 'XLU' 'XLV'\n 'XLY']<br>[0.2  0.07 0.04 0.03 0.03 0.02 0.04 0.2  0.11 0.11 0.06 0.04 0.05]",
          "['GLD' 'QQQ' 'SPY' 'XLB' 'XLE' 'XLF' 'XLI' 'XLK' 'XLP' 'XLRE' 'XLU' 'XLV'\n 'XLY']<br>[0.15 0.13 0.13 0.05 0.02 0.01 0.09 0.13 0.05 0.15 0.03 0.04 0.02]",
          "['GLD' 'QQQ' 'SPY' 'XLB' 'XLE' 'XLF' 'XLI' 'XLK' 'XLP' 'XLRE' 'XLU' 'XLV'\n 'XLY']<br>[0.   0.11 0.01 0.04 0.   0.02 0.09 0.21 0.09 0.14 0.03 0.23 0.02]",
          "['GLD' 'QQQ' 'SPY' 'XLB' 'XLE' 'XLF' 'XLI' 'XLK' 'XLP' 'XLRE' 'XLU' 'XLV'\n 'XLY']<br>[0.09 0.21 0.   0.17 0.   0.04 0.23 0.01 0.06 0.05 0.1  0.03 0.  ]",
          "['GLD' 'QQQ' 'SPY' 'XLB' 'XLE' 'XLF' 'XLI' 'XLK' 'XLP' 'XLRE' 'XLU' 'XLV'\n 'XLY']<br>[0.25 0.02 0.01 0.02 0.01 0.01 0.01 0.1  0.07 0.1  0.03 0.15 0.21]",
          "['GLD' 'QQQ' 'SPY' 'XLB' 'XLE' 'XLF' 'XLI' 'XLK' 'XLP' 'XLRE' 'XLU' 'XLV'\n 'XLY']<br>[0.   0.22 0.12 0.09 0.02 0.1  0.08 0.05 0.09 0.11 0.01 0.1  0.  ]",
          "['GLD' 'QQQ' 'SPY' 'XLB' 'XLE' 'XLF' 'XLI' 'XLK' 'XLP' 'XLRE' 'XLU' 'XLV'\n 'XLY']<br>[0.13 0.13 0.03 0.1  0.03 0.   0.04 0.19 0.04 0.1  0.12 0.05 0.04]",
          "['GLD' 'QQQ' 'SPY' 'XLB' 'XLE' 'XLF' 'XLI' 'XLK' 'XLP' 'XLRE' 'XLU' 'XLV'\n 'XLY']<br>[0.08 0.1  0.19 0.06 0.01 0.   0.12 0.18 0.02 0.16 0.03 0.02 0.04]",
          "['GLD' 'QQQ' 'SPY' 'XLB' 'XLE' 'XLF' 'XLI' 'XLK' 'XLP' 'XLRE' 'XLU' 'XLV'\n 'XLY']<br>[0.09 0.2  0.04 0.08 0.02 0.16 0.02 0.25 0.01 0.01 0.1  0.   0.03]",
          "['GLD' 'QQQ' 'SPY' 'XLB' 'XLE' 'XLF' 'XLI' 'XLK' 'XLP' 'XLRE' 'XLU' 'XLV'\n 'XLY']<br>[0.12 0.21 0.01 0.05 0.03 0.03 0.02 0.23 0.01 0.07 0.11 0.08 0.03]",
          "['GLD' 'QQQ' 'SPY' 'XLB' 'XLE' 'XLF' 'XLI' 'XLK' 'XLP' 'XLRE' 'XLU' 'XLV'\n 'XLY']<br>[0.16 0.16 0.09 0.   0.02 0.02 0.04 0.12 0.15 0.09 0.   0.   0.14]",
          "['GLD' 'QQQ' 'SPY' 'XLB' 'XLE' 'XLF' 'XLI' 'XLK' 'XLP' 'XLRE' 'XLU' 'XLV'\n 'XLY']<br>[0.08 0.14 0.14 0.01 0.02 0.04 0.06 0.12 0.08 0.06 0.12 0.14 0.01]",
          "['GLD' 'QQQ' 'SPY' 'XLB' 'XLE' 'XLF' 'XLI' 'XLK' 'XLP' 'XLRE' 'XLU' 'XLV'\n 'XLY']<br>[0.03 0.18 0.22 0.02 0.01 0.04 0.02 0.06 0.23 0.   0.08 0.1  0.01]",
          "['GLD' 'QQQ' 'SPY' 'XLB' 'XLE' 'XLF' 'XLI' 'XLK' 'XLP' 'XLRE' 'XLU' 'XLV'\n 'XLY']<br>[0.05 0.18 0.06 0.03 0.   0.03 0.11 0.16 0.04 0.07 0.13 0.13 0.02]",
          "['GLD' 'QQQ' 'SPY' 'XLB' 'XLE' 'XLF' 'XLI' 'XLK' 'XLP' 'XLRE' 'XLU' 'XLV'\n 'XLY']<br>[0.19 0.13 0.   0.01 0.01 0.   0.06 0.11 0.05 0.09 0.07 0.13 0.12]",
          "['GLD' 'QQQ' 'SPY' 'XLB' 'XLE' 'XLF' 'XLI' 'XLK' 'XLP' 'XLRE' 'XLU' 'XLV'\n 'XLY']<br>[0.18 0.09 0.01 0.06 0.01 0.04 0.01 0.2  0.04 0.16 0.02 0.12 0.07]",
          "['GLD' 'QQQ' 'SPY' 'XLB' 'XLE' 'XLF' 'XLI' 'XLK' 'XLP' 'XLRE' 'XLU' 'XLV'\n 'XLY']<br>[0.22 0.1  0.01 0.05 0.01 0.01 0.02 0.22 0.09 0.03 0.17 0.05 0.01]",
          "['GLD' 'QQQ' 'SPY' 'XLB' 'XLE' 'XLF' 'XLI' 'XLK' 'XLP' 'XLRE' 'XLU' 'XLV'\n 'XLY']<br>[0.01 0.18 0.17 0.1  0.01 0.02 0.07 0.11 0.02 0.12 0.   0.15 0.04]",
          "['GLD' 'QQQ' 'SPY' 'XLB' 'XLE' 'XLF' 'XLI' 'XLK' 'XLP' 'XLRE' 'XLU' 'XLV'\n 'XLY']<br>[0.21 0.24 0.01 0.03 0.04 0.05 0.01 0.16 0.06 0.04 0.06 0.09 0.01]",
          "['GLD' 'QQQ' 'SPY' 'XLB' 'XLE' 'XLF' 'XLI' 'XLK' 'XLP' 'XLRE' 'XLU' 'XLV'\n 'XLY']<br>[0.07 0.13 0.18 0.06 0.01 0.04 0.06 0.18 0.02 0.09 0.1  0.05 0.01]",
          "['GLD' 'QQQ' 'SPY' 'XLB' 'XLE' 'XLF' 'XLI' 'XLK' 'XLP' 'XLRE' 'XLU' 'XLV'\n 'XLY']<br>[0.02 0.18 0.15 0.03 0.   0.09 0.   0.08 0.07 0.11 0.08 0.18 0.  ]",
          "['GLD' 'QQQ' 'SPY' 'XLB' 'XLE' 'XLF' 'XLI' 'XLK' 'XLP' 'XLRE' 'XLU' 'XLV'\n 'XLY']<br>[0.12 0.17 0.01 0.02 0.02 0.01 0.1  0.16 0.08 0.17 0.01 0.04 0.1 ]",
          "['GLD' 'QQQ' 'SPY' 'XLB' 'XLE' 'XLF' 'XLI' 'XLK' 'XLP' 'XLRE' 'XLU' 'XLV'\n 'XLY']<br>[0.04 0.14 0.09 0.02 0.01 0.01 0.2  0.2  0.02 0.16 0.   0.1  0.01]",
          "['GLD' 'QQQ' 'SPY' 'XLB' 'XLE' 'XLF' 'XLI' 'XLK' 'XLP' 'XLRE' 'XLU' 'XLV'\n 'XLY']<br>[0.12 0.15 0.17 0.03 0.01 0.12 0.   0.17 0.04 0.02 0.07 0.09 0.01]",
          "['GLD' 'QQQ' 'SPY' 'XLB' 'XLE' 'XLF' 'XLI' 'XLK' 'XLP' 'XLRE' 'XLU' 'XLV'\n 'XLY']<br>[0.1  0.14 0.19 0.01 0.   0.07 0.03 0.16 0.08 0.1  0.03 0.05 0.04]",
          "['GLD' 'QQQ' 'SPY' 'XLB' 'XLE' 'XLF' 'XLI' 'XLK' 'XLP' 'XLRE' 'XLU' 'XLV'\n 'XLY']<br>[0.16 0.13 0.03 0.01 0.   0.02 0.04 0.14 0.1  0.15 0.1  0.08 0.04]",
          "['GLD' 'QQQ' 'SPY' 'XLB' 'XLE' 'XLF' 'XLI' 'XLK' 'XLP' 'XLRE' 'XLU' 'XLV'\n 'XLY']<br>[0.01 0.21 0.02 0.07 0.01 0.12 0.16 0.19 0.07 0.03 0.   0.1  0.01]",
          "['GLD' 'QQQ' 'SPY' 'XLB' 'XLE' 'XLF' 'XLI' 'XLK' 'XLP' 'XLRE' 'XLU' 'XLV'\n 'XLY']<br>[0.07 0.2  0.1  0.08 0.   0.   0.04 0.03 0.16 0.05 0.05 0.21 0.  ]",
          "['GLD' 'QQQ' 'SPY' 'XLB' 'XLE' 'XLF' 'XLI' 'XLK' 'XLP' 'XLRE' 'XLU' 'XLV'\n 'XLY']<br>[0.09 0.17 0.02 0.06 0.03 0.   0.05 0.18 0.14 0.05 0.02 0.18 0.01]",
          "['GLD' 'QQQ' 'SPY' 'XLB' 'XLE' 'XLF' 'XLI' 'XLK' 'XLP' 'XLRE' 'XLU' 'XLV'\n 'XLY']<br>[0.04 0.15 0.15 0.04 0.   0.03 0.08 0.14 0.14 0.02 0.14 0.06 0.  ]",
          "['GLD' 'QQQ' 'SPY' 'XLB' 'XLE' 'XLF' 'XLI' 'XLK' 'XLP' 'XLRE' 'XLU' 'XLV'\n 'XLY']<br>[0.01 0.2  0.02 0.06 0.03 0.1  0.01 0.25 0.02 0.17 0.02 0.1  0.02]",
          "['GLD' 'QQQ' 'SPY' 'XLB' 'XLE' 'XLF' 'XLI' 'XLK' 'XLP' 'XLRE' 'XLU' 'XLV'\n 'XLY']<br>[0.07 0.19 0.01 0.03 0.01 0.01 0.01 0.2  0.01 0.19 0.03 0.19 0.04]",
          "['GLD' 'QQQ' 'SPY' 'XLB' 'XLE' 'XLF' 'XLI' 'XLK' 'XLP' 'XLRE' 'XLU' 'XLV'\n 'XLY']<br>[0.1  0.13 0.14 0.06 0.01 0.04 0.11 0.17 0.   0.03 0.04 0.14 0.02]",
          "['GLD' 'QQQ' 'SPY' 'XLB' 'XLE' 'XLF' 'XLI' 'XLK' 'XLP' 'XLRE' 'XLU' 'XLV'\n 'XLY']<br>[0.16 0.05 0.06 0.02 0.01 0.02 0.01 0.18 0.07 0.17 0.05 0.01 0.17]",
          "['GLD' 'QQQ' 'SPY' 'XLB' 'XLE' 'XLF' 'XLI' 'XLK' 'XLP' 'XLRE' 'XLU' 'XLV'\n 'XLY']<br>[0.18 0.16 0.12 0.03 0.02 0.03 0.04 0.11 0.02 0.05 0.04 0.17 0.02]",
          "['GLD' 'QQQ' 'SPY' 'XLB' 'XLE' 'XLF' 'XLI' 'XLK' 'XLP' 'XLRE' 'XLU' 'XLV'\n 'XLY']<br>[0.08 0.16 0.11 0.02 0.01 0.05 0.13 0.17 0.14 0.03 0.02 0.06 0.02]",
          "['GLD' 'QQQ' 'SPY' 'XLB' 'XLE' 'XLF' 'XLI' 'XLK' 'XLP' 'XLRE' 'XLU' 'XLV'\n 'XLY']<br>[0.14 0.16 0.16 0.06 0.02 0.01 0.01 0.07 0.15 0.04 0.02 0.12 0.03]",
          "['GLD' 'QQQ' 'SPY' 'XLB' 'XLE' 'XLF' 'XLI' 'XLK' 'XLP' 'XLRE' 'XLU' 'XLV'\n 'XLY']<br>[0.1  0.18 0.17 0.04 0.   0.01 0.06 0.08 0.13 0.17 0.01 0.03 0.02]",
          "['GLD' 'QQQ' 'SPY' 'XLB' 'XLE' 'XLF' 'XLI' 'XLK' 'XLP' 'XLRE' 'XLU' 'XLV'\n 'XLY']<br>[0.2  0.2  0.09 0.09 0.   0.01 0.03 0.14 0.01 0.12 0.02 0.07 0.03]",
          "['GLD' 'QQQ' 'SPY' 'XLB' 'XLE' 'XLF' 'XLI' 'XLK' 'XLP' 'XLRE' 'XLU' 'XLV'\n 'XLY']<br>[0.09 0.22 0.17 0.03 0.01 0.04 0.23 0.03 0.05 0.05 0.06 0.01 0.02]",
          "['GLD' 'QQQ' 'SPY' 'XLB' 'XLE' 'XLF' 'XLI' 'XLK' 'XLP' 'XLRE' 'XLU' 'XLV'\n 'XLY']<br>[0.08 0.15 0.22 0.12 0.01 0.07 0.04 0.11 0.08 0.05 0.03 0.04 0.01]",
          "['GLD' 'QQQ' 'SPY' 'XLB' 'XLE' 'XLF' 'XLI' 'XLK' 'XLP' 'XLRE' 'XLU' 'XLV'\n 'XLY']<br>[0.06 0.18 0.04 0.02 0.01 0.02 0.03 0.2  0.15 0.09 0.06 0.14 0.  ]",
          "['GLD' 'QQQ' 'SPY' 'XLB' 'XLE' 'XLF' 'XLI' 'XLK' 'XLP' 'XLRE' 'XLU' 'XLV'\n 'XLY']<br>[0.14 0.15 0.16 0.02 0.01 0.02 0.08 0.16 0.04 0.11 0.02 0.07 0.03]",
          "['GLD' 'QQQ' 'SPY' 'XLB' 'XLE' 'XLF' 'XLI' 'XLK' 'XLP' 'XLRE' 'XLU' 'XLV'\n 'XLY']<br>[0.01 0.25 0.02 0.12 0.01 0.03 0.07 0.12 0.14 0.02 0.03 0.12 0.06]",
          "['GLD' 'QQQ' 'SPY' 'XLB' 'XLE' 'XLF' 'XLI' 'XLK' 'XLP' 'XLRE' 'XLU' 'XLV'\n 'XLY']<br>[0.03 0.39 0.02 0.11 0.03 0.   0.17 0.04 0.03 0.03 0.08 0.01 0.05]",
          "['GLD' 'QQQ' 'SPY' 'XLB' 'XLE' 'XLF' 'XLI' 'XLK' 'XLP' 'XLRE' 'XLU' 'XLV'\n 'XLY']<br>[0.12 0.18 0.11 0.04 0.01 0.03 0.08 0.21 0.03 0.   0.08 0.07 0.03]",
          "['GLD' 'QQQ' 'SPY' 'XLB' 'XLE' 'XLF' 'XLI' 'XLK' 'XLP' 'XLRE' 'XLU' 'XLV'\n 'XLY']<br>[0.02 0.2  0.1  0.04 0.   0.09 0.14 0.19 0.01 0.05 0.05 0.09 0.01]",
          "['GLD' 'QQQ' 'SPY' 'XLB' 'XLE' 'XLF' 'XLI' 'XLK' 'XLP' 'XLRE' 'XLU' 'XLV'\n 'XLY']<br>[0.08 0.17 0.24 0.09 0.01 0.02 0.1  0.1  0.06 0.01 0.07 0.03 0.01]",
          "['GLD' 'QQQ' 'SPY' 'XLB' 'XLE' 'XLF' 'XLI' 'XLK' 'XLP' 'XLRE' 'XLU' 'XLV'\n 'XLY']<br>[0.22 0.2  0.08 0.02 0.   0.12 0.   0.2  0.02 0.   0.01 0.04 0.08]",
          "['GLD' 'QQQ' 'SPY' 'XLB' 'XLE' 'XLF' 'XLI' 'XLK' 'XLP' 'XLRE' 'XLU' 'XLV'\n 'XLY']<br>[0.16 0.15 0.09 0.   0.02 0.05 0.03 0.2  0.09 0.07 0.02 0.1  0.01]",
          "['GLD' 'QQQ' 'SPY' 'XLB' 'XLE' 'XLF' 'XLI' 'XLK' 'XLP' 'XLRE' 'XLU' 'XLV'\n 'XLY']<br>[0.08 0.16 0.15 0.05 0.   0.02 0.04 0.06 0.14 0.13 0.   0.15 0.02]",
          "['GLD' 'QQQ' 'SPY' 'XLB' 'XLE' 'XLF' 'XLI' 'XLK' 'XLP' 'XLRE' 'XLU' 'XLV'\n 'XLY']<br>[0.08 0.17 0.23 0.02 0.01 0.06 0.07 0.11 0.06 0.08 0.01 0.05 0.05]",
          "['GLD' 'QQQ' 'SPY' 'XLB' 'XLE' 'XLF' 'XLI' 'XLK' 'XLP' 'XLRE' 'XLU' 'XLV'\n 'XLY']<br>[0.05 0.22 0.06 0.01 0.02 0.03 0.01 0.17 0.14 0.07 0.06 0.16 0.  ]",
          "['GLD' 'QQQ' 'SPY' 'XLB' 'XLE' 'XLF' 'XLI' 'XLK' 'XLP' 'XLRE' 'XLU' 'XLV'\n 'XLY']<br>[0.13 0.16 0.14 0.05 0.   0.03 0.05 0.16 0.14 0.03 0.01 0.09 0.  ]",
          "['GLD' 'QQQ' 'SPY' 'XLB' 'XLE' 'XLF' 'XLI' 'XLK' 'XLP' 'XLRE' 'XLU' 'XLV'\n 'XLY']<br>[0.15 0.11 0.09 0.02 0.04 0.01 0.06 0.2  0.04 0.15 0.05 0.03 0.04]"
         ],
         "type": "scatter",
         "x": [
          0.15756665299659706,
          0.13509125561329477,
          0.13323719722135094,
          0.1463556947114002,
          0.14489370195767592,
          0.12244518292086087,
          0.13002682045135058,
          0.16667194507480138,
          0.1383437417382603,
          0.12725424585148148,
          0.12588281400968568,
          0.1377220238557079,
          0.16067607878258627,
          0.1394813249927982,
          0.13572391936101347,
          0.12503329219748407,
          0.12390958021080363,
          0.14049282236598135,
          0.12268206280384586,
          0.12572445088545844,
          0.12564929949758719,
          0.11902148957574556,
          0.12186477382291187,
          0.13669209272756486,
          0.11008986017801824,
          0.1180664583042175,
          0.10584523688217534,
          0.1236939030987864,
          0.13024077202222775,
          0.1621366268299848,
          0.10325066931801757,
          0.1596208609571645,
          0.11799988066208712,
          0.12909629422525756,
          0.12744355834959753,
          0.11497359975830354,
          0.11306163969444784,
          0.13884183264100916,
          0.1567620603255718,
          0.1363263886519819,
          0.11170138376373757,
          0.10346158918050928,
          0.10913117257422354,
          0.14753653178716092,
          0.11464147946798367,
          0.13424480510607967,
          0.14698042640811615,
          0.111904929792316,
          0.13304191228460582,
          0.1323550620631985,
          0.1266987119331462,
          0.11308482387158514,
          0.14879539823680424,
          0.14844434172683305,
          0.12549369487258605,
          0.1454597003576328,
          0.12228576990214501,
          0.11381484854456475,
          0.1362639192438798,
          0.10203058957267967,
          0.1252821204663289,
          0.13564434132188943,
          0.13388203383482217,
          0.1300736454807865,
          0.1150229473457961,
          0.15886873105378474,
          0.1458760792742104,
          0.12391530151615013,
          0.12246022473854214,
          0.14506085440604885,
          0.15885088580136053,
          0.12623654918313096,
          0.14613576826478913,
          0.15176004851184707,
          0.11224033904985635,
          0.1149145322210001,
          0.13841236280090408,
          0.14033330235340263,
          0.1299127686279759,
          0.12739340383119532,
          0.11158763567536624
         ],
         "y": [
          0.1273459988366164,
          0.11541960037812604,
          0.10910929262300012,
          0.12972842238781943,
          0.13859360099947712,
          0.10115718467047811,
          0.1189411338974021,
          0.14009968818268842,
          0.12257172391883119,
          0.11368251482926209,
          0.12853253402748424,
          0.13055614704941249,
          0.13935128435438937,
          0.13302713377639516,
          0.13538966182005616,
          0.11123717301069215,
          0.10167889020481494,
          0.14913353693847178,
          0.11606384853748804,
          0.12819280335530153,
          0.1341330770952041,
          0.07879573133859843,
          0.13525227615860422,
          0.14100592693334718,
          0.11495254682553684,
          0.1297203178810235,
          0.11332979815742664,
          0.1362552206558469,
          0.13785748109843646,
          0.15066447388057697,
          0.0885804603606542,
          0.15590722042821326,
          0.12144421621998393,
          0.14032212270190045,
          0.1371293196316236,
          0.13487259233078125,
          0.1211768711311387,
          0.14285432487537641,
          0.15936899573509183,
          0.14671690993899966,
          0.11579052532363389,
          0.11456291977641836,
          0.12145495454711763,
          0.15275517932880997,
          0.1360211276574626,
          0.14651073491090777,
          0.15271939760320913,
          0.12273737529611743,
          0.1463735650847966,
          0.14533075098781945,
          0.1453872983396376,
          0.1252158167929446,
          0.15295359588377264,
          0.15695953952368322,
          0.14006407077009558,
          0.15151454650089372,
          0.13735935187710047,
          0.13603486519385505,
          0.1472275109024554,
          0.09646020255944769,
          0.14245031480321066,
          0.1481405344797126,
          0.14728844714004286,
          0.14965670405410192,
          0.14253146056074179,
          0.1619749982653926,
          0.15206832909080986,
          0.1434259324603143,
          0.14569930403567175,
          0.14995864213285445,
          0.16496155550570238,
          0.14635820122056256,
          0.1570059383868531,
          0.1606742382428244,
          0.1354966014963414,
          0.14060165974521485,
          0.1511662439207142,
          0.1512980127707279,
          0.15105125734721525,
          0.15290267693000573,
          0.12249453493451545
         ]
        }
       ],
       "layout": {
        "coloraxis": {
         "colorbar": {
          "title": {
           "text": "Sharpe Ratio"
          }
         }
        },
        "height": 500,
        "template": {
         "data": {
          "bar": [
           {
            "error_x": {
             "color": "#2a3f5f"
            },
            "error_y": {
             "color": "#2a3f5f"
            },
            "marker": {
             "line": {
              "color": "white",
              "width": 0.5
             }
            },
            "type": "bar"
           }
          ],
          "barpolar": [
           {
            "marker": {
             "line": {
              "color": "white",
              "width": 0.5
             }
            },
            "type": "barpolar"
           }
          ],
          "carpet": [
           {
            "aaxis": {
             "endlinecolor": "#2a3f5f",
             "gridcolor": "#C8D4E3",
             "linecolor": "#C8D4E3",
             "minorgridcolor": "#C8D4E3",
             "startlinecolor": "#2a3f5f"
            },
            "baxis": {
             "endlinecolor": "#2a3f5f",
             "gridcolor": "#C8D4E3",
             "linecolor": "#C8D4E3",
             "minorgridcolor": "#C8D4E3",
             "startlinecolor": "#2a3f5f"
            },
            "type": "carpet"
           }
          ],
          "choropleth": [
           {
            "colorbar": {
             "outlinewidth": 0,
             "ticks": ""
            },
            "type": "choropleth"
           }
          ],
          "contour": [
           {
            "colorbar": {
             "outlinewidth": 0,
             "ticks": ""
            },
            "colorscale": [
             [
              0,
              "#0d0887"
             ],
             [
              0.1111111111111111,
              "#46039f"
             ],
             [
              0.2222222222222222,
              "#7201a8"
             ],
             [
              0.3333333333333333,
              "#9c179e"
             ],
             [
              0.4444444444444444,
              "#bd3786"
             ],
             [
              0.5555555555555556,
              "#d8576b"
             ],
             [
              0.6666666666666666,
              "#ed7953"
             ],
             [
              0.7777777777777778,
              "#fb9f3a"
             ],
             [
              0.8888888888888888,
              "#fdca26"
             ],
             [
              1,
              "#f0f921"
             ]
            ],
            "type": "contour"
           }
          ],
          "contourcarpet": [
           {
            "colorbar": {
             "outlinewidth": 0,
             "ticks": ""
            },
            "type": "contourcarpet"
           }
          ],
          "heatmap": [
           {
            "colorbar": {
             "outlinewidth": 0,
             "ticks": ""
            },
            "colorscale": [
             [
              0,
              "#0d0887"
             ],
             [
              0.1111111111111111,
              "#46039f"
             ],
             [
              0.2222222222222222,
              "#7201a8"
             ],
             [
              0.3333333333333333,
              "#9c179e"
             ],
             [
              0.4444444444444444,
              "#bd3786"
             ],
             [
              0.5555555555555556,
              "#d8576b"
             ],
             [
              0.6666666666666666,
              "#ed7953"
             ],
             [
              0.7777777777777778,
              "#fb9f3a"
             ],
             [
              0.8888888888888888,
              "#fdca26"
             ],
             [
              1,
              "#f0f921"
             ]
            ],
            "type": "heatmap"
           }
          ],
          "heatmapgl": [
           {
            "colorbar": {
             "outlinewidth": 0,
             "ticks": ""
            },
            "colorscale": [
             [
              0,
              "#0d0887"
             ],
             [
              0.1111111111111111,
              "#46039f"
             ],
             [
              0.2222222222222222,
              "#7201a8"
             ],
             [
              0.3333333333333333,
              "#9c179e"
             ],
             [
              0.4444444444444444,
              "#bd3786"
             ],
             [
              0.5555555555555556,
              "#d8576b"
             ],
             [
              0.6666666666666666,
              "#ed7953"
             ],
             [
              0.7777777777777778,
              "#fb9f3a"
             ],
             [
              0.8888888888888888,
              "#fdca26"
             ],
             [
              1,
              "#f0f921"
             ]
            ],
            "type": "heatmapgl"
           }
          ],
          "histogram": [
           {
            "marker": {
             "colorbar": {
              "outlinewidth": 0,
              "ticks": ""
             }
            },
            "type": "histogram"
           }
          ],
          "histogram2d": [
           {
            "colorbar": {
             "outlinewidth": 0,
             "ticks": ""
            },
            "colorscale": [
             [
              0,
              "#0d0887"
             ],
             [
              0.1111111111111111,
              "#46039f"
             ],
             [
              0.2222222222222222,
              "#7201a8"
             ],
             [
              0.3333333333333333,
              "#9c179e"
             ],
             [
              0.4444444444444444,
              "#bd3786"
             ],
             [
              0.5555555555555556,
              "#d8576b"
             ],
             [
              0.6666666666666666,
              "#ed7953"
             ],
             [
              0.7777777777777778,
              "#fb9f3a"
             ],
             [
              0.8888888888888888,
              "#fdca26"
             ],
             [
              1,
              "#f0f921"
             ]
            ],
            "type": "histogram2d"
           }
          ],
          "histogram2dcontour": [
           {
            "colorbar": {
             "outlinewidth": 0,
             "ticks": ""
            },
            "colorscale": [
             [
              0,
              "#0d0887"
             ],
             [
              0.1111111111111111,
              "#46039f"
             ],
             [
              0.2222222222222222,
              "#7201a8"
             ],
             [
              0.3333333333333333,
              "#9c179e"
             ],
             [
              0.4444444444444444,
              "#bd3786"
             ],
             [
              0.5555555555555556,
              "#d8576b"
             ],
             [
              0.6666666666666666,
              "#ed7953"
             ],
             [
              0.7777777777777778,
              "#fb9f3a"
             ],
             [
              0.8888888888888888,
              "#fdca26"
             ],
             [
              1,
              "#f0f921"
             ]
            ],
            "type": "histogram2dcontour"
           }
          ],
          "mesh3d": [
           {
            "colorbar": {
             "outlinewidth": 0,
             "ticks": ""
            },
            "type": "mesh3d"
           }
          ],
          "parcoords": [
           {
            "line": {
             "colorbar": {
              "outlinewidth": 0,
              "ticks": ""
             }
            },
            "type": "parcoords"
           }
          ],
          "pie": [
           {
            "automargin": true,
            "type": "pie"
           }
          ],
          "scatter": [
           {
            "marker": {
             "colorbar": {
              "outlinewidth": 0,
              "ticks": ""
             }
            },
            "type": "scatter"
           }
          ],
          "scatter3d": [
           {
            "line": {
             "colorbar": {
              "outlinewidth": 0,
              "ticks": ""
             }
            },
            "marker": {
             "colorbar": {
              "outlinewidth": 0,
              "ticks": ""
             }
            },
            "type": "scatter3d"
           }
          ],
          "scattercarpet": [
           {
            "marker": {
             "colorbar": {
              "outlinewidth": 0,
              "ticks": ""
             }
            },
            "type": "scattercarpet"
           }
          ],
          "scattergeo": [
           {
            "marker": {
             "colorbar": {
              "outlinewidth": 0,
              "ticks": ""
             }
            },
            "type": "scattergeo"
           }
          ],
          "scattergl": [
           {
            "marker": {
             "colorbar": {
              "outlinewidth": 0,
              "ticks": ""
             }
            },
            "type": "scattergl"
           }
          ],
          "scattermapbox": [
           {
            "marker": {
             "colorbar": {
              "outlinewidth": 0,
              "ticks": ""
             }
            },
            "type": "scattermapbox"
           }
          ],
          "scatterpolar": [
           {
            "marker": {
             "colorbar": {
              "outlinewidth": 0,
              "ticks": ""
             }
            },
            "type": "scatterpolar"
           }
          ],
          "scatterpolargl": [
           {
            "marker": {
             "colorbar": {
              "outlinewidth": 0,
              "ticks": ""
             }
            },
            "type": "scatterpolargl"
           }
          ],
          "scatterternary": [
           {
            "marker": {
             "colorbar": {
              "outlinewidth": 0,
              "ticks": ""
             }
            },
            "type": "scatterternary"
           }
          ],
          "surface": [
           {
            "colorbar": {
             "outlinewidth": 0,
             "ticks": ""
            },
            "colorscale": [
             [
              0,
              "#0d0887"
             ],
             [
              0.1111111111111111,
              "#46039f"
             ],
             [
              0.2222222222222222,
              "#7201a8"
             ],
             [
              0.3333333333333333,
              "#9c179e"
             ],
             [
              0.4444444444444444,
              "#bd3786"
             ],
             [
              0.5555555555555556,
              "#d8576b"
             ],
             [
              0.6666666666666666,
              "#ed7953"
             ],
             [
              0.7777777777777778,
              "#fb9f3a"
             ],
             [
              0.8888888888888888,
              "#fdca26"
             ],
             [
              1,
              "#f0f921"
             ]
            ],
            "type": "surface"
           }
          ],
          "table": [
           {
            "cells": {
             "fill": {
              "color": "#EBF0F8"
             },
             "line": {
              "color": "white"
             }
            },
            "header": {
             "fill": {
              "color": "#C8D4E3"
             },
             "line": {
              "color": "white"
             }
            },
            "type": "table"
           }
          ]
         },
         "layout": {
          "annotationdefaults": {
           "arrowcolor": "#2a3f5f",
           "arrowhead": 0,
           "arrowwidth": 1
          },
          "coloraxis": {
           "colorbar": {
            "outlinewidth": 0,
            "ticks": ""
           }
          },
          "colorscale": {
           "diverging": [
            [
             0,
             "#8e0152"
            ],
            [
             0.1,
             "#c51b7d"
            ],
            [
             0.2,
             "#de77ae"
            ],
            [
             0.3,
             "#f1b6da"
            ],
            [
             0.4,
             "#fde0ef"
            ],
            [
             0.5,
             "#f7f7f7"
            ],
            [
             0.6,
             "#e6f5d0"
            ],
            [
             0.7,
             "#b8e186"
            ],
            [
             0.8,
             "#7fbc41"
            ],
            [
             0.9,
             "#4d9221"
            ],
            [
             1,
             "#276419"
            ]
           ],
           "sequential": [
            [
             0,
             "#0d0887"
            ],
            [
             0.1111111111111111,
             "#46039f"
            ],
            [
             0.2222222222222222,
             "#7201a8"
            ],
            [
             0.3333333333333333,
             "#9c179e"
            ],
            [
             0.4444444444444444,
             "#bd3786"
            ],
            [
             0.5555555555555556,
             "#d8576b"
            ],
            [
             0.6666666666666666,
             "#ed7953"
            ],
            [
             0.7777777777777778,
             "#fb9f3a"
            ],
            [
             0.8888888888888888,
             "#fdca26"
            ],
            [
             1,
             "#f0f921"
            ]
           ],
           "sequentialminus": [
            [
             0,
             "#0d0887"
            ],
            [
             0.1111111111111111,
             "#46039f"
            ],
            [
             0.2222222222222222,
             "#7201a8"
            ],
            [
             0.3333333333333333,
             "#9c179e"
            ],
            [
             0.4444444444444444,
             "#bd3786"
            ],
            [
             0.5555555555555556,
             "#d8576b"
            ],
            [
             0.6666666666666666,
             "#ed7953"
            ],
            [
             0.7777777777777778,
             "#fb9f3a"
            ],
            [
             0.8888888888888888,
             "#fdca26"
            ],
            [
             1,
             "#f0f921"
            ]
           ]
          },
          "colorway": [
           "#636efa",
           "#EF553B",
           "#00cc96",
           "#ab63fa",
           "#FFA15A",
           "#19d3f3",
           "#FF6692",
           "#B6E880",
           "#FF97FF",
           "#FECB52"
          ],
          "font": {
           "color": "#2a3f5f"
          },
          "geo": {
           "bgcolor": "white",
           "lakecolor": "white",
           "landcolor": "white",
           "showlakes": true,
           "showland": true,
           "subunitcolor": "#C8D4E3"
          },
          "hoverlabel": {
           "align": "left"
          },
          "hovermode": "closest",
          "mapbox": {
           "style": "light"
          },
          "paper_bgcolor": "white",
          "plot_bgcolor": "white",
          "polar": {
           "angularaxis": {
            "gridcolor": "#EBF0F8",
            "linecolor": "#EBF0F8",
            "ticks": ""
           },
           "bgcolor": "white",
           "radialaxis": {
            "gridcolor": "#EBF0F8",
            "linecolor": "#EBF0F8",
            "ticks": ""
           }
          },
          "scene": {
           "xaxis": {
            "backgroundcolor": "white",
            "gridcolor": "#DFE8F3",
            "gridwidth": 2,
            "linecolor": "#EBF0F8",
            "showbackground": true,
            "ticks": "",
            "zerolinecolor": "#EBF0F8"
           },
           "yaxis": {
            "backgroundcolor": "white",
            "gridcolor": "#DFE8F3",
            "gridwidth": 2,
            "linecolor": "#EBF0F8",
            "showbackground": true,
            "ticks": "",
            "zerolinecolor": "#EBF0F8"
           },
           "zaxis": {
            "backgroundcolor": "white",
            "gridcolor": "#DFE8F3",
            "gridwidth": 2,
            "linecolor": "#EBF0F8",
            "showbackground": true,
            "ticks": "",
            "zerolinecolor": "#EBF0F8"
           }
          },
          "shapedefaults": {
           "line": {
            "color": "#2a3f5f"
           }
          },
          "ternary": {
           "aaxis": {
            "gridcolor": "#DFE8F3",
            "linecolor": "#A2B1C6",
            "ticks": ""
           },
           "baxis": {
            "gridcolor": "#DFE8F3",
            "linecolor": "#A2B1C6",
            "ticks": ""
           },
           "bgcolor": "white",
           "caxis": {
            "gridcolor": "#DFE8F3",
            "linecolor": "#A2B1C6",
            "ticks": ""
           }
          },
          "title": {
           "x": 0.05
          },
          "xaxis": {
           "automargin": true,
           "gridcolor": "#EBF0F8",
           "linecolor": "#EBF0F8",
           "ticks": "",
           "title": {
            "standoff": 15
           },
           "zerolinecolor": "#EBF0F8",
           "zerolinewidth": 2
          },
          "yaxis": {
           "automargin": true,
           "gridcolor": "#EBF0F8",
           "linecolor": "#EBF0F8",
           "ticks": "",
           "title": {
            "standoff": 15
           },
           "zerolinecolor": "#EBF0F8",
           "zerolinewidth": 2
          }
         }
        },
        "title": {
         "text": "Sample of Random Portfolios"
        },
        "width": 850,
        "xaxis": {
         "range": [
          0,
          0.25
         ],
         "title": {
          "text": "Annualised Risk (Volatility)"
         }
        },
        "yaxis": {
         "range": [
          0,
          0.25
         ],
         "title": {
          "text": "Annualised Return"
         }
        }
       }
      }
     },
     "metadata": {},
     "output_type": "display_data"
    }
   ],
   "source": [
    "# Plot the risk vs. return of generated portfolios in an interactive plot\n",
    "\n",
    "mean_variance_pairs = np.array(mean_variance_pairs)\n",
    "\n",
    "# sets the risk free rate, ours is set to 0.5% since that is the current rate of the 2 year treasury bond\n",
    "rfr= 0.50/100\n",
    "\n",
    "fig = go.Figure()\n",
    "fig.add_trace(go.Scatter(x=mean_variance_pairs[:,1]**0.5, y=mean_variance_pairs[:,0], \n",
    "                      marker=dict(color=(mean_variance_pairs[:,0]-rfr)/(mean_variance_pairs[:,1]**0.5), \n",
    "                                  showscale=True, \n",
    "                                  size=7,\n",
    "                                  line=dict(width=1),\n",
    "                                  colorscale=\"RdBu\",\n",
    "                                  colorbar=dict(title=\"Sharpe<br>Ratio\")\n",
    "                                 ), \n",
    "                      mode='markers',\n",
    "                      text=[str(np.array(tickers_list[i])) + \"<br>\" + str(np.array(weights_list[i]).round(2)) for i in range(len(tickers_list))]))\n",
    "fig.update_layout(template='plotly_white',\n",
    "                  xaxis=dict(title='Annualised Risk (Volatility)'),\n",
    "                  yaxis=dict(title='Annualised Return'),\n",
    "                  title='Sample of Random Portfolios',\n",
    "                  width=850,\n",
    "                  height=500)\n",
    "fig.update_xaxes(range=[0, 0.25])\n",
    "fig.update_yaxes(range=[0, 0.25])\n",
    "fig.update_layout(coloraxis_colorbar=dict(title=\"Sharpe Ratio\"))"
   ]
  },
  {
   "cell_type": "markdown",
   "metadata": {},
   "source": [
    "### Finally we add our portfolio weights to the Backtest to show performance"
   ]
  },
  {
   "cell_type": "code",
   "execution_count": 20,
   "metadata": {},
   "outputs": [
    {
     "data": {
      "text/plain": [
       "1.1956871540361231"
      ]
     },
     "metadata": {},
     "output_type": "display_data"
    },
    {
     "data": {
      "text/plain": [
       "64"
      ]
     },
     "metadata": {},
     "output_type": "display_data"
    }
   ],
   "source": [
    "#mean_variance_pairs\n",
    "\n",
    "sharpe_ratios = (mean_variance_pairs[:,0]-rfr)/(mean_variance_pairs[:,1]**0.5)\n",
    "best_sharpe_ratio = np.max(sharpe_ratios)\n",
    "\n",
    "best_sharpe_location = np.where(sharpe_ratios == best_sharpe_ratio)\n",
    "\n",
    "\n",
    "# best_weights = weights_list[best_sharpe_location]\n",
    "display(best_sharpe_ratio)\n",
    "display()"
   ]
  },
  {
   "cell_type": "code",
   "execution_count": 21,
   "metadata": {},
   "outputs": [
    {
     "data": {
      "text/plain": [
       "array([0.19504067, 0.19962814, 0.08684725, 0.09289662, 0.00450948,\n",
       "       0.00512032, 0.02897907, 0.13601379, 0.0073925 , 0.11930867,\n",
       "       0.01905538, 0.07084311, 0.03436501])"
      ]
     },
     "execution_count": 21,
     "metadata": {},
     "output_type": "execute_result"
    }
   ],
   "source": [
    "# plugged in the 88 position by hand because I couldnt figure out how to make it not a tuple to do it automatically \n",
    "best_weights = weights_list[best_sharpe_location[0][0]]\n",
    "best_weights"
   ]
  },
  {
   "cell_type": "code",
   "execution_count": 22,
   "metadata": {},
   "outputs": [
    {
     "data": {
      "text/html": [
       "<div>\n",
       "<style scoped>\n",
       "    .dataframe tbody tr th:only-of-type {\n",
       "        vertical-align: middle;\n",
       "    }\n",
       "\n",
       "    .dataframe tbody tr th {\n",
       "        vertical-align: top;\n",
       "    }\n",
       "\n",
       "    .dataframe thead th {\n",
       "        text-align: right;\n",
       "    }\n",
       "</style>\n",
       "<table border=\"1\" class=\"dataframe\">\n",
       "  <thead>\n",
       "    <tr style=\"text-align: right;\">\n",
       "      <th></th>\n",
       "      <th>GLD_weight</th>\n",
       "      <th>QQQ_weight</th>\n",
       "      <th>SPY_weight</th>\n",
       "      <th>XLB_weight</th>\n",
       "      <th>XLE_weight</th>\n",
       "      <th>XLF_weight</th>\n",
       "      <th>XLI_weight</th>\n",
       "      <th>XLK_weight</th>\n",
       "      <th>XLP_weight</th>\n",
       "      <th>XLRE_weight</th>\n",
       "      <th>XLU_weight</th>\n",
       "      <th>XLV_weight</th>\n",
       "      <th>XLY_weight</th>\n",
       "      <th>Port_Performance</th>\n",
       "    </tr>\n",
       "    <tr>\n",
       "      <th>Date</th>\n",
       "      <th></th>\n",
       "      <th></th>\n",
       "      <th></th>\n",
       "      <th></th>\n",
       "      <th></th>\n",
       "      <th></th>\n",
       "      <th></th>\n",
       "      <th></th>\n",
       "      <th></th>\n",
       "      <th></th>\n",
       "      <th></th>\n",
       "      <th></th>\n",
       "      <th></th>\n",
       "      <th></th>\n",
       "    </tr>\n",
       "  </thead>\n",
       "  <tbody>\n",
       "    <tr>\n",
       "      <th>2018-04-16</th>\n",
       "      <td>0.000275</td>\n",
       "      <td>0.001522</td>\n",
       "      <td>0.000714</td>\n",
       "      <td>0.001247</td>\n",
       "      <td>0.000046</td>\n",
       "      <td>0.000022</td>\n",
       "      <td>0.000290</td>\n",
       "      <td>0.0</td>\n",
       "      <td>0.000080</td>\n",
       "      <td>0.000000</td>\n",
       "      <td>0.000260</td>\n",
       "      <td>0.000562</td>\n",
       "      <td>0.00000</td>\n",
       "      <td>0.005019</td>\n",
       "    </tr>\n",
       "    <tr>\n",
       "      <th>2018-04-17</th>\n",
       "      <td>0.000183</td>\n",
       "      <td>0.004297</td>\n",
       "      <td>0.000929</td>\n",
       "      <td>0.001057</td>\n",
       "      <td>0.000000</td>\n",
       "      <td>0.000000</td>\n",
       "      <td>0.000244</td>\n",
       "      <td>0.0</td>\n",
       "      <td>0.000017</td>\n",
       "      <td>0.001594</td>\n",
       "      <td>0.000193</td>\n",
       "      <td>0.000549</td>\n",
       "      <td>0.00064</td>\n",
       "      <td>0.009704</td>\n",
       "    </tr>\n",
       "    <tr>\n",
       "      <th>2018-04-18</th>\n",
       "      <td>0.000153</td>\n",
       "      <td>0.000409</td>\n",
       "      <td>0.000064</td>\n",
       "      <td>0.000671</td>\n",
       "      <td>0.000071</td>\n",
       "      <td>-0.000024</td>\n",
       "      <td>0.000300</td>\n",
       "      <td>-0.0</td>\n",
       "      <td>-0.000000</td>\n",
       "      <td>-0.000000</td>\n",
       "      <td>-0.000071</td>\n",
       "      <td>0.000060</td>\n",
       "      <td>0.00000</td>\n",
       "      <td>0.001632</td>\n",
       "    </tr>\n",
       "    <tr>\n",
       "      <th>2018-04-19</th>\n",
       "      <td>-0.000381</td>\n",
       "      <td>-0.001835</td>\n",
       "      <td>-0.000482</td>\n",
       "      <td>-0.001038</td>\n",
       "      <td>0.000006</td>\n",
       "      <td>0.000000</td>\n",
       "      <td>-0.000080</td>\n",
       "      <td>-0.0</td>\n",
       "      <td>-0.000214</td>\n",
       "      <td>-0.000000</td>\n",
       "      <td>-0.000011</td>\n",
       "      <td>-0.000596</td>\n",
       "      <td>-0.00000</td>\n",
       "      <td>-0.004631</td>\n",
       "    </tr>\n",
       "    <tr>\n",
       "      <th>2018-04-20</th>\n",
       "      <td>-0.001483</td>\n",
       "      <td>-0.003159</td>\n",
       "      <td>-0.000736</td>\n",
       "      <td>-0.000501</td>\n",
       "      <td>-0.000021</td>\n",
       "      <td>0.000000</td>\n",
       "      <td>-0.000126</td>\n",
       "      <td>-0.0</td>\n",
       "      <td>-0.000124</td>\n",
       "      <td>-0.000000</td>\n",
       "      <td>-0.000173</td>\n",
       "      <td>-0.000378</td>\n",
       "      <td>-0.00035</td>\n",
       "      <td>-0.007051</td>\n",
       "    </tr>\n",
       "  </tbody>\n",
       "</table>\n",
       "</div>"
      ],
      "text/plain": [
       "            GLD_weight  QQQ_weight  SPY_weight  XLB_weight  XLE_weight  \\\n",
       "Date                                                                     \n",
       "2018-04-16    0.000275    0.001522    0.000714    0.001247    0.000046   \n",
       "2018-04-17    0.000183    0.004297    0.000929    0.001057    0.000000   \n",
       "2018-04-18    0.000153    0.000409    0.000064    0.000671    0.000071   \n",
       "2018-04-19   -0.000381   -0.001835   -0.000482   -0.001038    0.000006   \n",
       "2018-04-20   -0.001483   -0.003159   -0.000736   -0.000501   -0.000021   \n",
       "\n",
       "            XLF_weight  XLI_weight  XLK_weight  XLP_weight  XLRE_weight  \\\n",
       "Date                                                                      \n",
       "2018-04-16    0.000022    0.000290         0.0    0.000080     0.000000   \n",
       "2018-04-17    0.000000    0.000244         0.0    0.000017     0.001594   \n",
       "2018-04-18   -0.000024    0.000300        -0.0   -0.000000    -0.000000   \n",
       "2018-04-19    0.000000   -0.000080        -0.0   -0.000214    -0.000000   \n",
       "2018-04-20    0.000000   -0.000126        -0.0   -0.000124    -0.000000   \n",
       "\n",
       "            XLU_weight  XLV_weight  XLY_weight  Port_Performance  \n",
       "Date                                                              \n",
       "2018-04-16    0.000260    0.000562     0.00000          0.005019  \n",
       "2018-04-17    0.000193    0.000549     0.00064          0.009704  \n",
       "2018-04-18   -0.000071    0.000060     0.00000          0.001632  \n",
       "2018-04-19   -0.000011   -0.000596    -0.00000         -0.004631  \n",
       "2018-04-20   -0.000173   -0.000378    -0.00035         -0.007051  "
      ]
     },
     "execution_count": 22,
     "metadata": {},
     "output_type": "execute_result"
    }
   ],
   "source": [
    "# Apply porfolio weights to daily performance\n",
    "weight_count = 0\n",
    "for ticker in possible_positions:\n",
    "    daily_returns_df[f'{ticker}_weight'] = daily_returns_df[ticker] * best_weights[weight_count]\n",
    "    daily_returns_df = daily_returns_df.drop(columns=[ticker])\n",
    "    weight_count += 1\n",
    "    \n",
    "    \n",
    "daily_returns_df['Port_Performance'] = daily_returns_df.sum(axis=1)\n",
    "\n",
    "daily_returns_df.head()"
   ]
  },
  {
   "cell_type": "code",
   "execution_count": 23,
   "metadata": {},
   "outputs": [
    {
     "data": {
      "text/plain": [
       "<AxesSubplot:title={'center':'Portfolio Performance (High Risk)'}, xlabel='Date'>"
      ]
     },
     "execution_count": 23,
     "metadata": {},
     "output_type": "execute_result"
    },
    {
     "data": {
      "image/png": "[encoded data removed]",
      "text/plain": [
       "<Figure size 432x288 with 1 Axes>"
      ]
     },
     "metadata": {
      "needs_background": "light"
     },
     "output_type": "display_data"
    }
   ],
   "source": [
    "# Cumulative Portfolio Return\n",
    "\n",
    "daily_returns_df['Cumulative_Return'] = (1+ daily_returns_df['Port_Performance']).cumprod()\n",
    "\n",
    "\n",
    "daily_returns_df['Cumulative_Return'].plot(title=\"Portfolio Performance (High Risk)\")"
   ]
  },
  {
   "cell_type": "code",
   "execution_count": 24,
   "metadata": {},
   "outputs": [
    {
     "data": {
      "text/html": [
       "<div>\n",
       "<style scoped>\n",
       "    .dataframe tbody tr th:only-of-type {\n",
       "        vertical-align: middle;\n",
       "    }\n",
       "\n",
       "    .dataframe tbody tr th {\n",
       "        vertical-align: top;\n",
       "    }\n",
       "\n",
       "    .dataframe thead th {\n",
       "        text-align: right;\n",
       "    }\n",
       "</style>\n",
       "<table border=\"1\" class=\"dataframe\">\n",
       "  <thead>\n",
       "    <tr style=\"text-align: right;\">\n",
       "      <th></th>\n",
       "      <th>GLD_weight</th>\n",
       "      <th>QQQ_weight</th>\n",
       "      <th>SPY_weight</th>\n",
       "      <th>XLB_weight</th>\n",
       "      <th>XLE_weight</th>\n",
       "      <th>XLF_weight</th>\n",
       "      <th>XLI_weight</th>\n",
       "      <th>XLK_weight</th>\n",
       "      <th>XLP_weight</th>\n",
       "      <th>XLRE_weight</th>\n",
       "      <th>XLU_weight</th>\n",
       "      <th>XLV_weight</th>\n",
       "      <th>XLY_weight</th>\n",
       "      <th>bonds</th>\n",
       "      <th>Port_Performance</th>\n",
       "      <th>Cumulative_Return</th>\n",
       "    </tr>\n",
       "    <tr>\n",
       "      <th>Date</th>\n",
       "      <th></th>\n",
       "      <th></th>\n",
       "      <th></th>\n",
       "      <th></th>\n",
       "      <th></th>\n",
       "      <th></th>\n",
       "      <th></th>\n",
       "      <th></th>\n",
       "      <th></th>\n",
       "      <th></th>\n",
       "      <th></th>\n",
       "      <th></th>\n",
       "      <th></th>\n",
       "      <th></th>\n",
       "      <th></th>\n",
       "      <th></th>\n",
       "    </tr>\n",
       "  </thead>\n",
       "  <tbody>\n",
       "    <tr>\n",
       "      <th>2018-04-16</th>\n",
       "      <td>0.000220</td>\n",
       "      <td>0.001217</td>\n",
       "      <td>0.000571</td>\n",
       "      <td>0.000998</td>\n",
       "      <td>0.000037</td>\n",
       "      <td>0.000018</td>\n",
       "      <td>0.000232</td>\n",
       "      <td>0.0</td>\n",
       "      <td>0.000064</td>\n",
       "      <td>0.000000</td>\n",
       "      <td>0.000208</td>\n",
       "      <td>0.000450</td>\n",
       "      <td>0.000000</td>\n",
       "      <td>0.000013</td>\n",
       "      <td>0.004028</td>\n",
       "      <td>1.004028</td>\n",
       "    </tr>\n",
       "    <tr>\n",
       "      <th>2018-04-17</th>\n",
       "      <td>0.000147</td>\n",
       "      <td>0.003438</td>\n",
       "      <td>0.000743</td>\n",
       "      <td>0.000846</td>\n",
       "      <td>0.000000</td>\n",
       "      <td>0.000000</td>\n",
       "      <td>0.000195</td>\n",
       "      <td>0.0</td>\n",
       "      <td>0.000013</td>\n",
       "      <td>0.001276</td>\n",
       "      <td>0.000154</td>\n",
       "      <td>0.000440</td>\n",
       "      <td>0.000512</td>\n",
       "      <td>0.000013</td>\n",
       "      <td>0.007776</td>\n",
       "      <td>1.011835</td>\n",
       "    </tr>\n",
       "    <tr>\n",
       "      <th>2018-04-18</th>\n",
       "      <td>0.000122</td>\n",
       "      <td>0.000327</td>\n",
       "      <td>0.000051</td>\n",
       "      <td>0.000537</td>\n",
       "      <td>0.000057</td>\n",
       "      <td>-0.000019</td>\n",
       "      <td>0.000240</td>\n",
       "      <td>-0.0</td>\n",
       "      <td>-0.000000</td>\n",
       "      <td>-0.000000</td>\n",
       "      <td>-0.000057</td>\n",
       "      <td>0.000048</td>\n",
       "      <td>0.000000</td>\n",
       "      <td>0.000013</td>\n",
       "      <td>0.001318</td>\n",
       "      <td>1.013169</td>\n",
       "    </tr>\n",
       "    <tr>\n",
       "      <th>2018-04-19</th>\n",
       "      <td>-0.000305</td>\n",
       "      <td>-0.001468</td>\n",
       "      <td>-0.000385</td>\n",
       "      <td>-0.000830</td>\n",
       "      <td>0.000004</td>\n",
       "      <td>0.000000</td>\n",
       "      <td>-0.000064</td>\n",
       "      <td>-0.0</td>\n",
       "      <td>-0.000171</td>\n",
       "      <td>-0.000000</td>\n",
       "      <td>-0.000009</td>\n",
       "      <td>-0.000477</td>\n",
       "      <td>-0.000000</td>\n",
       "      <td>0.000013</td>\n",
       "      <td>-0.003692</td>\n",
       "      <td>1.009427</td>\n",
       "    </tr>\n",
       "    <tr>\n",
       "      <th>2018-04-20</th>\n",
       "      <td>-0.001186</td>\n",
       "      <td>-0.002528</td>\n",
       "      <td>-0.000589</td>\n",
       "      <td>-0.000401</td>\n",
       "      <td>-0.000017</td>\n",
       "      <td>0.000000</td>\n",
       "      <td>-0.000101</td>\n",
       "      <td>-0.0</td>\n",
       "      <td>-0.000099</td>\n",
       "      <td>-0.000000</td>\n",
       "      <td>-0.000138</td>\n",
       "      <td>-0.000302</td>\n",
       "      <td>-0.000280</td>\n",
       "      <td>0.000013</td>\n",
       "      <td>-0.005629</td>\n",
       "      <td>1.003746</td>\n",
       "    </tr>\n",
       "  </tbody>\n",
       "</table>\n",
       "</div>"
      ],
      "text/plain": [
       "            GLD_weight  QQQ_weight  SPY_weight  XLB_weight  XLE_weight  \\\n",
       "Date                                                                     \n",
       "2018-04-16    0.000220    0.001217    0.000571    0.000998    0.000037   \n",
       "2018-04-17    0.000147    0.003438    0.000743    0.000846    0.000000   \n",
       "2018-04-18    0.000122    0.000327    0.000051    0.000537    0.000057   \n",
       "2018-04-19   -0.000305   -0.001468   -0.000385   -0.000830    0.000004   \n",
       "2018-04-20   -0.001186   -0.002528   -0.000589   -0.000401   -0.000017   \n",
       "\n",
       "            XLF_weight  XLI_weight  XLK_weight  XLP_weight  XLRE_weight  \\\n",
       "Date                                                                      \n",
       "2018-04-16    0.000018    0.000232         0.0    0.000064     0.000000   \n",
       "2018-04-17    0.000000    0.000195         0.0    0.000013     0.001276   \n",
       "2018-04-18   -0.000019    0.000240        -0.0   -0.000000    -0.000000   \n",
       "2018-04-19    0.000000   -0.000064        -0.0   -0.000171    -0.000000   \n",
       "2018-04-20    0.000000   -0.000101        -0.0   -0.000099    -0.000000   \n",
       "\n",
       "            XLU_weight  XLV_weight  XLY_weight     bonds  Port_Performance  \\\n",
       "Date                                                                         \n",
       "2018-04-16    0.000208    0.000450    0.000000  0.000013          0.004028   \n",
       "2018-04-17    0.000154    0.000440    0.000512  0.000013          0.007776   \n",
       "2018-04-18   -0.000057    0.000048    0.000000  0.000013          0.001318   \n",
       "2018-04-19   -0.000009   -0.000477   -0.000000  0.000013         -0.003692   \n",
       "2018-04-20   -0.000138   -0.000302   -0.000280  0.000013         -0.005629   \n",
       "\n",
       "            Cumulative_Return  \n",
       "Date                           \n",
       "2018-04-16           1.004028  \n",
       "2018-04-17           1.011835  \n",
       "2018-04-18           1.013169  \n",
       "2018-04-19           1.009427  \n",
       "2018-04-20           1.003746  "
      ]
     },
     "execution_count": 24,
     "metadata": {},
     "output_type": "execute_result"
    }
   ],
   "source": [
    "# Portfolios By Risk Level\n",
    "\n",
    "# High risk is all equity\n",
    "high_risk_portfolio = daily_returns_df\n",
    "\n",
    "# Medium risk is 80% equity and 20% bond\n",
    "medium_risk_portfolio = daily_returns_df * 0.8\n",
    "medium_risk_portfolio['bonds'] = (0.0158/252) * 0.2\n",
    "medium_risk_portfolio = medium_risk_portfolio.drop(columns=['Cumulative_Return', 'Port_Performance'])\n",
    "medium_risk_portfolio['Port_Performance'] = medium_risk_portfolio.sum(axis=1)\n",
    "medium_risk_portfolio['Cumulative_Return'] = (1+ medium_risk_portfolio['Port_Performance']).cumprod()\n",
    "\n",
    "# Low risk is 60% equity and 40% bond\n",
    "low_risk_portfolio = daily_returns_df * 0.6\n",
    "low_risk_portfolio['bonds'] = (0.0158/252) * 0.4\n",
    "low_risk_portfolio = low_risk_portfolio.drop(columns=['Cumulative_Return', 'Port_Performance'])\n",
    "low_risk_portfolio['Port_Performance'] = low_risk_portfolio.sum(axis=1)\n",
    "low_risk_portfolio['Cumulative_Return'] = (1+ low_risk_portfolio['Port_Performance']).cumprod()\n",
    "\n",
    "medium_risk_portfolio.head()"
   ]
  },
  {
   "cell_type": "code",
   "execution_count": 25,
   "metadata": {},
   "outputs": [
    {
     "data": {
      "text/plain": [
       "<AxesSubplot:title={'center':'Portfolio Performance (Mid Risk)'}, xlabel='Date'>"
      ]
     },
     "execution_count": 25,
     "metadata": {},
     "output_type": "execute_result"
    },
    {
     "data": {
      "image/png": "[encoded data removed]",
      "text/plain": [
       "<Figure size 432x288 with 1 Axes>"
      ]
     },
     "metadata": {
      "needs_background": "light"
     },
     "output_type": "display_data"
    }
   ],
   "source": [
    "medium_risk_portfolio['Cumulative_Return'].plot(title=\"Portfolio Performance (Mid Risk)\")"
   ]
  },
  {
   "cell_type": "code",
   "execution_count": 26,
   "metadata": {},
   "outputs": [
    {
     "data": {
      "text/plain": [
       "<AxesSubplot:title={'center':'Portfolio Performance (Low Risk)'}, xlabel='Date'>"
      ]
     },
     "execution_count": 26,
     "metadata": {},
     "output_type": "execute_result"
    },
    {
     "data": {
      "image/png": "[encoded data removed]",
      "text/plain": [
       "<Figure size 432x288 with 1 Axes>"
      ]
     },
     "metadata": {
      "needs_background": "light"
     },
     "output_type": "display_data"
    }
   ],
   "source": [
    "low_risk_portfolio['Cumulative_Return'].plot(title=\"Portfolio Performance (Low Risk)\")"
   ]
  },
  {
   "cell_type": "code",
   "execution_count": null,
   "metadata": {},
   "outputs": [],
   "source": []
  }
 ],
 "metadata": {
  "interpreter": {
   "hash": "c4548f37cb57e5f90b688da07afcec8b6701a706f26ef0aeccf7a45946e3169e"
  },
  "kernelspec": {
   "display_name": "Python 3.7.9 64-bit ('dev': conda)",
   "name": "python3"
  },
  "language_info": {
   "codemirror_mode": {
    "name": "ipython",
    "version": 3
   },
   "file_extension": ".py",
   "mimetype": "text/x-python",
   "name": "python",
   "nbconvert_exporter": "python",
   "pygments_lexer": "ipython3",
   "version": "3.7.9"
  }
 },
 "nbformat": 4,
 "nbformat_minor": 4
}
